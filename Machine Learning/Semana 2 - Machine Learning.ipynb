{
 "cells": [
  {
   "cell_type": "markdown",
   "id": "f1d52c97",
   "metadata": {},
   "source": [
    "# Tarea Semana 2\n",
    "\n",
    "En esta semana el objetivo es trabajar con los algoritmos de aprendizaje automático Decision \n",
    "Tree y Random Forest.\n",
    "\n",
    "¿es posible generar un modelo que pueda predecir el Genero de un juego en base a las ventas globales, las ventas en Japón y la \n",
    "plataforma?\n",
    "\n",
    "- Para poder trabajar con estos modelos, será necesario factorizar las variables categóricas\n",
    "- Separar el dataset en dos, train y test\n",
    "- Ejecutar Random Forest\n",
    "- Ejecutar Arboles de Decision \n",
    "- Generar las matrices de confusión de ambos modelos, para poder comparar la performance\n",
    "\n"
   ]
  },
  {
   "cell_type": "code",
   "execution_count": 1,
   "id": "ec68cf18",
   "metadata": {},
   "outputs": [],
   "source": [
    "import pandas as pd\n",
    "import numpy as  np\n",
    "from scipy import stats\n",
    "from sklearn.model_selection import train_test_split\n",
    "from sklearn.linear_model import LinearRegression\n",
    "import numpy as  np\n",
    "import matplotlib.pyplot as plt\n",
    "from sklearn.metrics import r2_score\n",
    "from sklearn.metrics import mean_squared_error\n",
    "from sklearn.ensemble import RandomForestClassifier\n",
    "from sklearn.metrics import classification_report, confusion_matrix, accuracy_score\n",
    "from sklearn.tree import DecisionTreeClassifier"
   ]
  },
  {
   "cell_type": "markdown",
   "id": "c1e287c8",
   "metadata": {},
   "source": [
    "## Recuperar DataSet"
   ]
  },
  {
   "cell_type": "code",
   "execution_count": 2,
   "id": "3d7dfbc5",
   "metadata": {},
   "outputs": [
    {
     "data": {
      "text/html": [
       "<div>\n",
       "<style scoped>\n",
       "    .dataframe tbody tr th:only-of-type {\n",
       "        vertical-align: middle;\n",
       "    }\n",
       "\n",
       "    .dataframe tbody tr th {\n",
       "        vertical-align: top;\n",
       "    }\n",
       "\n",
       "    .dataframe thead th {\n",
       "        text-align: right;\n",
       "    }\n",
       "</style>\n",
       "<table border=\"1\" class=\"dataframe\">\n",
       "  <thead>\n",
       "    <tr style=\"text-align: right;\">\n",
       "      <th></th>\n",
       "      <th>Rank</th>\n",
       "      <th>Name</th>\n",
       "      <th>Platform</th>\n",
       "      <th>Year</th>\n",
       "      <th>Genre</th>\n",
       "      <th>Publisher</th>\n",
       "      <th>NA_Sales</th>\n",
       "      <th>EU_Sales</th>\n",
       "      <th>JP_Sales</th>\n",
       "      <th>Other_Sales</th>\n",
       "      <th>Global_Sales</th>\n",
       "    </tr>\n",
       "  </thead>\n",
       "  <tbody>\n",
       "    <tr>\n",
       "      <th>0</th>\n",
       "      <td>1</td>\n",
       "      <td>Wii Sports</td>\n",
       "      <td>Wii</td>\n",
       "      <td>2006.0</td>\n",
       "      <td>Sports</td>\n",
       "      <td>Nintendo</td>\n",
       "      <td>41.49</td>\n",
       "      <td>29.02</td>\n",
       "      <td>3.77</td>\n",
       "      <td>8.46</td>\n",
       "      <td>82.74</td>\n",
       "    </tr>\n",
       "    <tr>\n",
       "      <th>1</th>\n",
       "      <td>2</td>\n",
       "      <td>Super Mario Bros.</td>\n",
       "      <td>NES</td>\n",
       "      <td>1985.0</td>\n",
       "      <td>Platform</td>\n",
       "      <td>Nintendo</td>\n",
       "      <td>29.08</td>\n",
       "      <td>3.58</td>\n",
       "      <td>6.81</td>\n",
       "      <td>0.77</td>\n",
       "      <td>40.24</td>\n",
       "    </tr>\n",
       "    <tr>\n",
       "      <th>2</th>\n",
       "      <td>3</td>\n",
       "      <td>Mario Kart Wii</td>\n",
       "      <td>Wii</td>\n",
       "      <td>2008.0</td>\n",
       "      <td>Racing</td>\n",
       "      <td>Nintendo</td>\n",
       "      <td>15.85</td>\n",
       "      <td>12.88</td>\n",
       "      <td>3.79</td>\n",
       "      <td>3.31</td>\n",
       "      <td>35.82</td>\n",
       "    </tr>\n",
       "    <tr>\n",
       "      <th>3</th>\n",
       "      <td>4</td>\n",
       "      <td>Wii Sports Resort</td>\n",
       "      <td>Wii</td>\n",
       "      <td>2009.0</td>\n",
       "      <td>Sports</td>\n",
       "      <td>Nintendo</td>\n",
       "      <td>15.75</td>\n",
       "      <td>11.01</td>\n",
       "      <td>3.28</td>\n",
       "      <td>2.96</td>\n",
       "      <td>33.00</td>\n",
       "    </tr>\n",
       "    <tr>\n",
       "      <th>4</th>\n",
       "      <td>5</td>\n",
       "      <td>Pokemon Red/Pokemon Blue</td>\n",
       "      <td>GB</td>\n",
       "      <td>1996.0</td>\n",
       "      <td>Role-Playing</td>\n",
       "      <td>Nintendo</td>\n",
       "      <td>11.27</td>\n",
       "      <td>8.89</td>\n",
       "      <td>10.22</td>\n",
       "      <td>1.00</td>\n",
       "      <td>31.37</td>\n",
       "    </tr>\n",
       "  </tbody>\n",
       "</table>\n",
       "</div>"
      ],
      "text/plain": [
       "   Rank                      Name Platform    Year         Genre Publisher  \\\n",
       "0     1                Wii Sports      Wii  2006.0        Sports  Nintendo   \n",
       "1     2         Super Mario Bros.      NES  1985.0      Platform  Nintendo   \n",
       "2     3            Mario Kart Wii      Wii  2008.0        Racing  Nintendo   \n",
       "3     4         Wii Sports Resort      Wii  2009.0        Sports  Nintendo   \n",
       "4     5  Pokemon Red/Pokemon Blue       GB  1996.0  Role-Playing  Nintendo   \n",
       "\n",
       "   NA_Sales  EU_Sales  JP_Sales  Other_Sales  Global_Sales  \n",
       "0     41.49     29.02      3.77         8.46         82.74  \n",
       "1     29.08      3.58      6.81         0.77         40.24  \n",
       "2     15.85     12.88      3.79         3.31         35.82  \n",
       "3     15.75     11.01      3.28         2.96         33.00  \n",
       "4     11.27      8.89     10.22         1.00         31.37  "
      ]
     },
     "execution_count": 2,
     "metadata": {},
     "output_type": "execute_result"
    }
   ],
   "source": [
    "df = pd.read_csv(\"vgsales v3.csv\", sep=';')\n",
    "df.head()"
   ]
  },
  {
   "cell_type": "markdown",
   "id": "9e4268b6",
   "metadata": {},
   "source": [
    "# Analizar y preparar DataSet"
   ]
  },
  {
   "cell_type": "code",
   "execution_count": 3,
   "id": "5fbc007a",
   "metadata": {},
   "outputs": [
    {
     "data": {
      "text/plain": [
       "Rank              int64\n",
       "Name             object\n",
       "Platform         object\n",
       "Year            float64\n",
       "Genre            object\n",
       "Publisher        object\n",
       "NA_Sales        float64\n",
       "EU_Sales        float64\n",
       "JP_Sales        float64\n",
       "Other_Sales     float64\n",
       "Global_Sales    float64\n",
       "dtype: object"
      ]
     },
     "execution_count": 3,
     "metadata": {},
     "output_type": "execute_result"
    }
   ],
   "source": [
    "#Ver tipos de datos\n",
    "df.dtypes"
   ]
  },
  {
   "cell_type": "code",
   "execution_count": 4,
   "id": "ca78c960",
   "metadata": {},
   "outputs": [
    {
     "data": {
      "text/plain": [
       "Rank              0\n",
       "Name              0\n",
       "Platform          0\n",
       "Year            271\n",
       "Genre             0\n",
       "Publisher        58\n",
       "NA_Sales          0\n",
       "EU_Sales          5\n",
       "JP_Sales          4\n",
       "Other_Sales       4\n",
       "Global_Sales      6\n",
       "dtype: int64"
      ]
     },
     "execution_count": 4,
     "metadata": {},
     "output_type": "execute_result"
    }
   ],
   "source": [
    "# Ver valores nulos\n",
    "\n",
    "df.isnull().sum()"
   ]
  },
  {
   "cell_type": "markdown",
   "id": "4e45f806",
   "metadata": {},
   "source": [
    "## Manejar valores nulos"
   ]
  },
  {
   "cell_type": "markdown",
   "id": "504bcf93",
   "metadata": {},
   "source": [
    "Dado que existen valores nulos correspondientes a las ventas de cada lugar debemos solucionarlo para que no afecten el resultado final.\n",
    "La suma de las ventas de cada lugar, resultan en Global Sales."
   ]
  },
  {
   "cell_type": "markdown",
   "id": "25248d9c",
   "metadata": {},
   "source": [
    "### Global Sales"
   ]
  },
  {
   "cell_type": "markdown",
   "id": "a1e47b58",
   "metadata": {},
   "source": [
    "Se realiza la suma de los valores de las columnas NA_Sales, EU_Sales, JP_Sales, y Other Sales"
   ]
  },
  {
   "cell_type": "code",
   "execution_count": 5,
   "id": "e2bce043",
   "metadata": {},
   "outputs": [
    {
     "data": {
      "text/html": [
       "<div>\n",
       "<style scoped>\n",
       "    .dataframe tbody tr th:only-of-type {\n",
       "        vertical-align: middle;\n",
       "    }\n",
       "\n",
       "    .dataframe tbody tr th {\n",
       "        vertical-align: top;\n",
       "    }\n",
       "\n",
       "    .dataframe thead th {\n",
       "        text-align: right;\n",
       "    }\n",
       "</style>\n",
       "<table border=\"1\" class=\"dataframe\">\n",
       "  <thead>\n",
       "    <tr style=\"text-align: right;\">\n",
       "      <th></th>\n",
       "      <th>Rank</th>\n",
       "      <th>Name</th>\n",
       "      <th>Platform</th>\n",
       "      <th>Year</th>\n",
       "      <th>Genre</th>\n",
       "      <th>Publisher</th>\n",
       "      <th>NA_Sales</th>\n",
       "      <th>EU_Sales</th>\n",
       "      <th>JP_Sales</th>\n",
       "      <th>Other_Sales</th>\n",
       "      <th>Global_Sales</th>\n",
       "    </tr>\n",
       "  </thead>\n",
       "  <tbody>\n",
       "    <tr>\n",
       "      <th>230</th>\n",
       "      <td>231</td>\n",
       "      <td>Guitar Hero III: Legends of Rock</td>\n",
       "      <td>Wii</td>\n",
       "      <td>2007.0</td>\n",
       "      <td>Misc</td>\n",
       "      <td>Activision</td>\n",
       "      <td>3.06</td>\n",
       "      <td>1.12</td>\n",
       "      <td>0.00</td>\n",
       "      <td>0.44</td>\n",
       "      <td>NaN</td>\n",
       "    </tr>\n",
       "    <tr>\n",
       "      <th>231</th>\n",
       "      <td>232</td>\n",
       "      <td>The Legend of Zelda: A Link to the Past</td>\n",
       "      <td>SNES</td>\n",
       "      <td>1991.0</td>\n",
       "      <td>Action</td>\n",
       "      <td>Nintendo</td>\n",
       "      <td>2.42</td>\n",
       "      <td>0.91</td>\n",
       "      <td>1.15</td>\n",
       "      <td>0.13</td>\n",
       "      <td>NaN</td>\n",
       "    </tr>\n",
       "    <tr>\n",
       "      <th>232</th>\n",
       "      <td>233</td>\n",
       "      <td>The Legend of Zelda: The Wind Waker</td>\n",
       "      <td>GC</td>\n",
       "      <td>2002.0</td>\n",
       "      <td>Action</td>\n",
       "      <td>Nintendo</td>\n",
       "      <td>2.60</td>\n",
       "      <td>0.99</td>\n",
       "      <td>0.89</td>\n",
       "      <td>0.13</td>\n",
       "      <td>NaN</td>\n",
       "    </tr>\n",
       "    <tr>\n",
       "      <th>233</th>\n",
       "      <td>234</td>\n",
       "      <td>Mario &amp; Sonic at the Olympic Winter Games</td>\n",
       "      <td>Wii</td>\n",
       "      <td>2009.0</td>\n",
       "      <td>Sports</td>\n",
       "      <td>Sega</td>\n",
       "      <td>1.89</td>\n",
       "      <td>1.99</td>\n",
       "      <td>0.22</td>\n",
       "      <td>0.48</td>\n",
       "      <td>NaN</td>\n",
       "    </tr>\n",
       "    <tr>\n",
       "      <th>234</th>\n",
       "      <td>235</td>\n",
       "      <td>Luigi's Mansion: Dark Moon</td>\n",
       "      <td>3DS</td>\n",
       "      <td>2013.0</td>\n",
       "      <td>Action</td>\n",
       "      <td>Nintendo</td>\n",
       "      <td>1.78</td>\n",
       "      <td>1.39</td>\n",
       "      <td>1.10</td>\n",
       "      <td>0.30</td>\n",
       "      <td>NaN</td>\n",
       "    </tr>\n",
       "    <tr>\n",
       "      <th>339</th>\n",
       "      <td>340</td>\n",
       "      <td>Tony Hawk's Pro Skater 4</td>\n",
       "      <td>PS2</td>\n",
       "      <td>2002.0</td>\n",
       "      <td>Sports</td>\n",
       "      <td>Activision</td>\n",
       "      <td>2.13</td>\n",
       "      <td>1.18</td>\n",
       "      <td>0.01</td>\n",
       "      <td>0.35</td>\n",
       "      <td>NaN</td>\n",
       "    </tr>\n",
       "  </tbody>\n",
       "</table>\n",
       "</div>"
      ],
      "text/plain": [
       "     Rank                                       Name Platform    Year   Genre  \\\n",
       "230   231           Guitar Hero III: Legends of Rock      Wii  2007.0    Misc   \n",
       "231   232    The Legend of Zelda: A Link to the Past     SNES  1991.0  Action   \n",
       "232   233        The Legend of Zelda: The Wind Waker       GC  2002.0  Action   \n",
       "233   234  Mario & Sonic at the Olympic Winter Games      Wii  2009.0  Sports   \n",
       "234   235                 Luigi's Mansion: Dark Moon      3DS  2013.0  Action   \n",
       "339   340                   Tony Hawk's Pro Skater 4      PS2  2002.0  Sports   \n",
       "\n",
       "      Publisher  NA_Sales  EU_Sales  JP_Sales  Other_Sales  Global_Sales  \n",
       "230  Activision      3.06      1.12      0.00         0.44           NaN  \n",
       "231    Nintendo      2.42      0.91      1.15         0.13           NaN  \n",
       "232    Nintendo      2.60      0.99      0.89         0.13           NaN  \n",
       "233        Sega      1.89      1.99      0.22         0.48           NaN  \n",
       "234    Nintendo      1.78      1.39      1.10         0.30           NaN  \n",
       "339  Activision      2.13      1.18      0.01         0.35           NaN  "
      ]
     },
     "execution_count": 5,
     "metadata": {},
     "output_type": "execute_result"
    }
   ],
   "source": [
    "#Filas donde existen valores nulos\n",
    "\n",
    "df[df['Global_Sales'].isnull()]"
   ]
  },
  {
   "cell_type": "code",
   "execution_count": 6,
   "id": "51546bd5",
   "metadata": {},
   "outputs": [],
   "source": [
    "randGlobal_Sales = df[\"EU_Sales\"] + df[\"NA_Sales\"] + df[\"JP_Sales\"] + df[\"Other_Sales\"]"
   ]
  },
  {
   "cell_type": "code",
   "execution_count": 7,
   "id": "e9762482",
   "metadata": {},
   "outputs": [],
   "source": [
    "df.Global_Sales = df.Global_Sales.fillna(randGlobal_Sales)"
   ]
  },
  {
   "cell_type": "code",
   "execution_count": 8,
   "id": "4c85e55a",
   "metadata": {},
   "outputs": [
    {
     "data": {
      "text/html": [
       "<div>\n",
       "<style scoped>\n",
       "    .dataframe tbody tr th:only-of-type {\n",
       "        vertical-align: middle;\n",
       "    }\n",
       "\n",
       "    .dataframe tbody tr th {\n",
       "        vertical-align: top;\n",
       "    }\n",
       "\n",
       "    .dataframe thead th {\n",
       "        text-align: right;\n",
       "    }\n",
       "</style>\n",
       "<table border=\"1\" class=\"dataframe\">\n",
       "  <thead>\n",
       "    <tr style=\"text-align: right;\">\n",
       "      <th></th>\n",
       "      <th>Rank</th>\n",
       "      <th>Name</th>\n",
       "      <th>Platform</th>\n",
       "      <th>Year</th>\n",
       "      <th>Genre</th>\n",
       "      <th>Publisher</th>\n",
       "      <th>NA_Sales</th>\n",
       "      <th>EU_Sales</th>\n",
       "      <th>JP_Sales</th>\n",
       "      <th>Other_Sales</th>\n",
       "      <th>Global_Sales</th>\n",
       "    </tr>\n",
       "  </thead>\n",
       "  <tbody>\n",
       "  </tbody>\n",
       "</table>\n",
       "</div>"
      ],
      "text/plain": [
       "Empty DataFrame\n",
       "Columns: [Rank, Name, Platform, Year, Genre, Publisher, NA_Sales, EU_Sales, JP_Sales, Other_Sales, Global_Sales]\n",
       "Index: []"
      ]
     },
     "execution_count": 8,
     "metadata": {},
     "output_type": "execute_result"
    }
   ],
   "source": [
    "df[df['Global_Sales'].isnull()]"
   ]
  },
  {
   "cell_type": "markdown",
   "id": "54817ce7",
   "metadata": {},
   "source": [
    "### EU_Sales"
   ]
  },
  {
   "cell_type": "markdown",
   "id": "4c232dff",
   "metadata": {},
   "source": [
    "Se realiza la suma de NA_Sales, JP_Sales y Other_Sales, y luego se le resta a Global_Sales, con el fin de obtener EU_Sales"
   ]
  },
  {
   "cell_type": "code",
   "execution_count": 9,
   "id": "1a845aba",
   "metadata": {},
   "outputs": [
    {
     "data": {
      "text/html": [
       "<div>\n",
       "<style scoped>\n",
       "    .dataframe tbody tr th:only-of-type {\n",
       "        vertical-align: middle;\n",
       "    }\n",
       "\n",
       "    .dataframe tbody tr th {\n",
       "        vertical-align: top;\n",
       "    }\n",
       "\n",
       "    .dataframe thead th {\n",
       "        text-align: right;\n",
       "    }\n",
       "</style>\n",
       "<table border=\"1\" class=\"dataframe\">\n",
       "  <thead>\n",
       "    <tr style=\"text-align: right;\">\n",
       "      <th></th>\n",
       "      <th>Rank</th>\n",
       "      <th>Name</th>\n",
       "      <th>Platform</th>\n",
       "      <th>Year</th>\n",
       "      <th>Genre</th>\n",
       "      <th>Publisher</th>\n",
       "      <th>NA_Sales</th>\n",
       "      <th>EU_Sales</th>\n",
       "      <th>JP_Sales</th>\n",
       "      <th>Other_Sales</th>\n",
       "      <th>Global_Sales</th>\n",
       "    </tr>\n",
       "  </thead>\n",
       "  <tbody>\n",
       "    <tr>\n",
       "      <th>76</th>\n",
       "      <td>77</td>\n",
       "      <td>Super Mario Kart</td>\n",
       "      <td>SNES</td>\n",
       "      <td>1992.0</td>\n",
       "      <td>Racing</td>\n",
       "      <td>Nintendo</td>\n",
       "      <td>3.54</td>\n",
       "      <td>NaN</td>\n",
       "      <td>3.81</td>\n",
       "      <td>0.18</td>\n",
       "      <td>8.76</td>\n",
       "    </tr>\n",
       "    <tr>\n",
       "      <th>131</th>\n",
       "      <td>132</td>\n",
       "      <td>Kingdom Hearts</td>\n",
       "      <td>PS2</td>\n",
       "      <td>2002.0</td>\n",
       "      <td>Role-Playing</td>\n",
       "      <td>Sony Computer Entertainment</td>\n",
       "      <td>3.64</td>\n",
       "      <td>NaN</td>\n",
       "      <td>1.49</td>\n",
       "      <td>0.07</td>\n",
       "      <td>6.40</td>\n",
       "    </tr>\n",
       "    <tr>\n",
       "      <th>132</th>\n",
       "      <td>133</td>\n",
       "      <td>Pokémon Crystal Version</td>\n",
       "      <td>GB</td>\n",
       "      <td>2000.0</td>\n",
       "      <td>Role-Playing</td>\n",
       "      <td>Nintendo</td>\n",
       "      <td>2.55</td>\n",
       "      <td>NaN</td>\n",
       "      <td>1.29</td>\n",
       "      <td>0.99</td>\n",
       "      <td>6.39</td>\n",
       "    </tr>\n",
       "    <tr>\n",
       "      <th>133</th>\n",
       "      <td>134</td>\n",
       "      <td>Halo 3: ODST</td>\n",
       "      <td>X360</td>\n",
       "      <td>2009.0</td>\n",
       "      <td>Shooter</td>\n",
       "      <td>Microsoft Game Studios</td>\n",
       "      <td>4.34</td>\n",
       "      <td>NaN</td>\n",
       "      <td>0.06</td>\n",
       "      <td>0.61</td>\n",
       "      <td>6.36</td>\n",
       "    </tr>\n",
       "    <tr>\n",
       "      <th>317</th>\n",
       "      <td>318</td>\n",
       "      <td>Namco Museum Vol.1</td>\n",
       "      <td>PS</td>\n",
       "      <td>1995.0</td>\n",
       "      <td>Misc</td>\n",
       "      <td>Sony Computer Entertainment</td>\n",
       "      <td>2.12</td>\n",
       "      <td>NaN</td>\n",
       "      <td>0.22</td>\n",
       "      <td>0.06</td>\n",
       "      <td>3.84</td>\n",
       "    </tr>\n",
       "  </tbody>\n",
       "</table>\n",
       "</div>"
      ],
      "text/plain": [
       "     Rank                     Name Platform    Year         Genre  \\\n",
       "76     77         Super Mario Kart     SNES  1992.0        Racing   \n",
       "131   132           Kingdom Hearts      PS2  2002.0  Role-Playing   \n",
       "132   133  Pokémon Crystal Version       GB  2000.0  Role-Playing   \n",
       "133   134             Halo 3: ODST     X360  2009.0       Shooter   \n",
       "317   318       Namco Museum Vol.1       PS  1995.0          Misc   \n",
       "\n",
       "                       Publisher  NA_Sales  EU_Sales  JP_Sales  Other_Sales  \\\n",
       "76                      Nintendo      3.54       NaN      3.81         0.18   \n",
       "131  Sony Computer Entertainment      3.64       NaN      1.49         0.07   \n",
       "132                     Nintendo      2.55       NaN      1.29         0.99   \n",
       "133       Microsoft Game Studios      4.34       NaN      0.06         0.61   \n",
       "317  Sony Computer Entertainment      2.12       NaN      0.22         0.06   \n",
       "\n",
       "     Global_Sales  \n",
       "76           8.76  \n",
       "131          6.40  \n",
       "132          6.39  \n",
       "133          6.36  \n",
       "317          3.84  "
      ]
     },
     "execution_count": 9,
     "metadata": {},
     "output_type": "execute_result"
    }
   ],
   "source": [
    "#Filas donde existen valores nulos\n",
    "\n",
    "df[df['EU_Sales'].isnull()]"
   ]
  },
  {
   "cell_type": "code",
   "execution_count": 10,
   "id": "f1dac5dc",
   "metadata": {},
   "outputs": [],
   "source": [
    "df.loc[np.isnan(df[\"EU_Sales\"]), \"EU_Sales\"] = (df[\"Global_Sales\"]-df[\"Other_Sales\"]-df[\"JP_Sales\"]-df[\"NA_Sales\"])"
   ]
  },
  {
   "cell_type": "code",
   "execution_count": 11,
   "id": "bc2904b7",
   "metadata": {},
   "outputs": [
    {
     "data": {
      "text/html": [
       "<div>\n",
       "<style scoped>\n",
       "    .dataframe tbody tr th:only-of-type {\n",
       "        vertical-align: middle;\n",
       "    }\n",
       "\n",
       "    .dataframe tbody tr th {\n",
       "        vertical-align: top;\n",
       "    }\n",
       "\n",
       "    .dataframe thead th {\n",
       "        text-align: right;\n",
       "    }\n",
       "</style>\n",
       "<table border=\"1\" class=\"dataframe\">\n",
       "  <thead>\n",
       "    <tr style=\"text-align: right;\">\n",
       "      <th></th>\n",
       "      <th>Rank</th>\n",
       "      <th>Name</th>\n",
       "      <th>Platform</th>\n",
       "      <th>Year</th>\n",
       "      <th>Genre</th>\n",
       "      <th>Publisher</th>\n",
       "      <th>NA_Sales</th>\n",
       "      <th>EU_Sales</th>\n",
       "      <th>JP_Sales</th>\n",
       "      <th>Other_Sales</th>\n",
       "      <th>Global_Sales</th>\n",
       "    </tr>\n",
       "  </thead>\n",
       "  <tbody>\n",
       "  </tbody>\n",
       "</table>\n",
       "</div>"
      ],
      "text/plain": [
       "Empty DataFrame\n",
       "Columns: [Rank, Name, Platform, Year, Genre, Publisher, NA_Sales, EU_Sales, JP_Sales, Other_Sales, Global_Sales]\n",
       "Index: []"
      ]
     },
     "execution_count": 11,
     "metadata": {},
     "output_type": "execute_result"
    }
   ],
   "source": [
    "df[df['EU_Sales'].isnull()]"
   ]
  },
  {
   "cell_type": "markdown",
   "id": "0d7a87a0",
   "metadata": {},
   "source": [
    "### JP_Sales "
   ]
  },
  {
   "cell_type": "markdown",
   "id": "872d4066",
   "metadata": {},
   "source": [
    "Se realiza la suma de NA_Sales, EU_Sales y Other_Sales, y luego se le resta a Global_Sales, con el fin de obtener JP_Sales"
   ]
  },
  {
   "cell_type": "code",
   "execution_count": 12,
   "id": "c3cd9f84",
   "metadata": {},
   "outputs": [
    {
     "data": {
      "text/html": [
       "<div>\n",
       "<style scoped>\n",
       "    .dataframe tbody tr th:only-of-type {\n",
       "        vertical-align: middle;\n",
       "    }\n",
       "\n",
       "    .dataframe tbody tr th {\n",
       "        vertical-align: top;\n",
       "    }\n",
       "\n",
       "    .dataframe thead th {\n",
       "        text-align: right;\n",
       "    }\n",
       "</style>\n",
       "<table border=\"1\" class=\"dataframe\">\n",
       "  <thead>\n",
       "    <tr style=\"text-align: right;\">\n",
       "      <th></th>\n",
       "      <th>Rank</th>\n",
       "      <th>Name</th>\n",
       "      <th>Platform</th>\n",
       "      <th>Year</th>\n",
       "      <th>Genre</th>\n",
       "      <th>Publisher</th>\n",
       "      <th>NA_Sales</th>\n",
       "      <th>EU_Sales</th>\n",
       "      <th>JP_Sales</th>\n",
       "      <th>Other_Sales</th>\n",
       "      <th>Global_Sales</th>\n",
       "    </tr>\n",
       "  </thead>\n",
       "  <tbody>\n",
       "    <tr>\n",
       "      <th>53</th>\n",
       "      <td>54</td>\n",
       "      <td>Super Mario 3D Land</td>\n",
       "      <td>3DS</td>\n",
       "      <td>2011.0</td>\n",
       "      <td>Platform</td>\n",
       "      <td>Nintendo</td>\n",
       "      <td>4.89</td>\n",
       "      <td>2.99</td>\n",
       "      <td>NaN</td>\n",
       "      <td>0.78</td>\n",
       "      <td>10.79</td>\n",
       "    </tr>\n",
       "    <tr>\n",
       "      <th>54</th>\n",
       "      <td>55</td>\n",
       "      <td>Gran Turismo 5</td>\n",
       "      <td>PS3</td>\n",
       "      <td>2010.0</td>\n",
       "      <td>Racing</td>\n",
       "      <td>Sony Computer Entertainment</td>\n",
       "      <td>2.96</td>\n",
       "      <td>4.88</td>\n",
       "      <td>NaN</td>\n",
       "      <td>2.12</td>\n",
       "      <td>10.77</td>\n",
       "    </tr>\n",
       "    <tr>\n",
       "      <th>55</th>\n",
       "      <td>56</td>\n",
       "      <td>Call of Duty: Modern Warfare 2</td>\n",
       "      <td>PS3</td>\n",
       "      <td>2009.0</td>\n",
       "      <td>Shooter</td>\n",
       "      <td>Activision</td>\n",
       "      <td>4.99</td>\n",
       "      <td>3.69</td>\n",
       "      <td>NaN</td>\n",
       "      <td>1.63</td>\n",
       "      <td>10.69</td>\n",
       "    </tr>\n",
       "    <tr>\n",
       "      <th>319</th>\n",
       "      <td>320</td>\n",
       "      <td>Mario &amp; Luigi: Bowser's Inside Story</td>\n",
       "      <td>DS</td>\n",
       "      <td>2009.0</td>\n",
       "      <td>Role-Playing</td>\n",
       "      <td>Nintendo</td>\n",
       "      <td>2.26</td>\n",
       "      <td>0.48</td>\n",
       "      <td>NaN</td>\n",
       "      <td>0.27</td>\n",
       "      <td>3.83</td>\n",
       "    </tr>\n",
       "  </tbody>\n",
       "</table>\n",
       "</div>"
      ],
      "text/plain": [
       "     Rank                                  Name Platform    Year  \\\n",
       "53     54                   Super Mario 3D Land      3DS  2011.0   \n",
       "54     55                        Gran Turismo 5      PS3  2010.0   \n",
       "55     56        Call of Duty: Modern Warfare 2      PS3  2009.0   \n",
       "319   320  Mario & Luigi: Bowser's Inside Story       DS  2009.0   \n",
       "\n",
       "            Genre                    Publisher  NA_Sales  EU_Sales  JP_Sales  \\\n",
       "53       Platform                     Nintendo      4.89      2.99       NaN   \n",
       "54         Racing  Sony Computer Entertainment      2.96      4.88       NaN   \n",
       "55        Shooter                   Activision      4.99      3.69       NaN   \n",
       "319  Role-Playing                     Nintendo      2.26      0.48       NaN   \n",
       "\n",
       "     Other_Sales  Global_Sales  \n",
       "53          0.78         10.79  \n",
       "54          2.12         10.77  \n",
       "55          1.63         10.69  \n",
       "319         0.27          3.83  "
      ]
     },
     "execution_count": 12,
     "metadata": {},
     "output_type": "execute_result"
    }
   ],
   "source": [
    "#Filas donde existen valores nulos\n",
    "\n",
    "df[df['JP_Sales'].isnull()]"
   ]
  },
  {
   "cell_type": "code",
   "execution_count": 13,
   "id": "135c4cfa",
   "metadata": {},
   "outputs": [],
   "source": [
    "df.loc[np.isnan(df[\"JP_Sales\"]), \"JP_Sales\"] = (df[\"Global_Sales\"]-df[\"Other_Sales\"]-df[\"EU_Sales\"]-df[\"NA_Sales\"])"
   ]
  },
  {
   "cell_type": "code",
   "execution_count": 14,
   "id": "393e75fc",
   "metadata": {},
   "outputs": [
    {
     "data": {
      "text/html": [
       "<div>\n",
       "<style scoped>\n",
       "    .dataframe tbody tr th:only-of-type {\n",
       "        vertical-align: middle;\n",
       "    }\n",
       "\n",
       "    .dataframe tbody tr th {\n",
       "        vertical-align: top;\n",
       "    }\n",
       "\n",
       "    .dataframe thead th {\n",
       "        text-align: right;\n",
       "    }\n",
       "</style>\n",
       "<table border=\"1\" class=\"dataframe\">\n",
       "  <thead>\n",
       "    <tr style=\"text-align: right;\">\n",
       "      <th></th>\n",
       "      <th>Rank</th>\n",
       "      <th>Name</th>\n",
       "      <th>Platform</th>\n",
       "      <th>Year</th>\n",
       "      <th>Genre</th>\n",
       "      <th>Publisher</th>\n",
       "      <th>NA_Sales</th>\n",
       "      <th>EU_Sales</th>\n",
       "      <th>JP_Sales</th>\n",
       "      <th>Other_Sales</th>\n",
       "      <th>Global_Sales</th>\n",
       "    </tr>\n",
       "  </thead>\n",
       "  <tbody>\n",
       "  </tbody>\n",
       "</table>\n",
       "</div>"
      ],
      "text/plain": [
       "Empty DataFrame\n",
       "Columns: [Rank, Name, Platform, Year, Genre, Publisher, NA_Sales, EU_Sales, JP_Sales, Other_Sales, Global_Sales]\n",
       "Index: []"
      ]
     },
     "execution_count": 14,
     "metadata": {},
     "output_type": "execute_result"
    }
   ],
   "source": [
    "df[df['JP_Sales'].isnull()]"
   ]
  },
  {
   "cell_type": "markdown",
   "id": "9dd2bf4b",
   "metadata": {},
   "source": [
    "### Other Sales"
   ]
  },
  {
   "cell_type": "markdown",
   "id": "a507ba6f",
   "metadata": {},
   "source": [
    "Se realiza la suma de NA_Sales, JP_Sales y EU_Sales, y luego se le resta a Global_Sales, con el fin de obtener Other_Sales"
   ]
  },
  {
   "cell_type": "code",
   "execution_count": 15,
   "id": "e94469ec",
   "metadata": {},
   "outputs": [
    {
     "data": {
      "text/html": [
       "<div>\n",
       "<style scoped>\n",
       "    .dataframe tbody tr th:only-of-type {\n",
       "        vertical-align: middle;\n",
       "    }\n",
       "\n",
       "    .dataframe tbody tr th {\n",
       "        vertical-align: top;\n",
       "    }\n",
       "\n",
       "    .dataframe thead th {\n",
       "        text-align: right;\n",
       "    }\n",
       "</style>\n",
       "<table border=\"1\" class=\"dataframe\">\n",
       "  <thead>\n",
       "    <tr style=\"text-align: right;\">\n",
       "      <th></th>\n",
       "      <th>Rank</th>\n",
       "      <th>Name</th>\n",
       "      <th>Platform</th>\n",
       "      <th>Year</th>\n",
       "      <th>Genre</th>\n",
       "      <th>Publisher</th>\n",
       "      <th>NA_Sales</th>\n",
       "      <th>EU_Sales</th>\n",
       "      <th>JP_Sales</th>\n",
       "      <th>Other_Sales</th>\n",
       "      <th>Global_Sales</th>\n",
       "    </tr>\n",
       "  </thead>\n",
       "  <tbody>\n",
       "    <tr>\n",
       "      <th>338</th>\n",
       "      <td>339</td>\n",
       "      <td>Friend Collection</td>\n",
       "      <td>DS</td>\n",
       "      <td>2009.0</td>\n",
       "      <td>Misc</td>\n",
       "      <td>Nintendo</td>\n",
       "      <td>0.00</td>\n",
       "      <td>0.00</td>\n",
       "      <td>3.67</td>\n",
       "      <td>NaN</td>\n",
       "      <td>3.67</td>\n",
       "    </tr>\n",
       "    <tr>\n",
       "      <th>357</th>\n",
       "      <td>358</td>\n",
       "      <td>Star Wars: Battlefront II</td>\n",
       "      <td>PS2</td>\n",
       "      <td>2005.0</td>\n",
       "      <td>Shooter</td>\n",
       "      <td>LucasArts</td>\n",
       "      <td>2.18</td>\n",
       "      <td>1.02</td>\n",
       "      <td>0.03</td>\n",
       "      <td>NaN</td>\n",
       "      <td>3.59</td>\n",
       "    </tr>\n",
       "    <tr>\n",
       "      <th>377</th>\n",
       "      <td>378</td>\n",
       "      <td>FIFA Soccer 2004</td>\n",
       "      <td>PS2</td>\n",
       "      <td>NaN</td>\n",
       "      <td>Sports</td>\n",
       "      <td>Electronic Arts</td>\n",
       "      <td>0.59</td>\n",
       "      <td>2.36</td>\n",
       "      <td>0.04</td>\n",
       "      <td>NaN</td>\n",
       "      <td>3.49</td>\n",
       "    </tr>\n",
       "    <tr>\n",
       "      <th>378</th>\n",
       "      <td>379</td>\n",
       "      <td>Star Wars Battlefront (2015)</td>\n",
       "      <td>XOne</td>\n",
       "      <td>2015.0</td>\n",
       "      <td>Shooter</td>\n",
       "      <td>Electronic Arts</td>\n",
       "      <td>1.94</td>\n",
       "      <td>1.22</td>\n",
       "      <td>0.02</td>\n",
       "      <td>NaN</td>\n",
       "      <td>3.49</td>\n",
       "    </tr>\n",
       "  </tbody>\n",
       "</table>\n",
       "</div>"
      ],
      "text/plain": [
       "     Rank                          Name Platform    Year    Genre  \\\n",
       "338   339             Friend Collection       DS  2009.0     Misc   \n",
       "357   358     Star Wars: Battlefront II      PS2  2005.0  Shooter   \n",
       "377   378              FIFA Soccer 2004      PS2     NaN   Sports   \n",
       "378   379  Star Wars Battlefront (2015)     XOne  2015.0  Shooter   \n",
       "\n",
       "           Publisher  NA_Sales  EU_Sales  JP_Sales  Other_Sales  Global_Sales  \n",
       "338         Nintendo      0.00      0.00      3.67          NaN          3.67  \n",
       "357        LucasArts      2.18      1.02      0.03          NaN          3.59  \n",
       "377  Electronic Arts      0.59      2.36      0.04          NaN          3.49  \n",
       "378  Electronic Arts      1.94      1.22      0.02          NaN          3.49  "
      ]
     },
     "execution_count": 15,
     "metadata": {},
     "output_type": "execute_result"
    }
   ],
   "source": [
    "#Filas donde existen valores nulos\n",
    "\n",
    "df[df['Other_Sales'].isnull()]"
   ]
  },
  {
   "cell_type": "code",
   "execution_count": 16,
   "id": "11453fb1",
   "metadata": {},
   "outputs": [],
   "source": [
    "df.loc[np.isnan(df[\"Other_Sales\"]), \"Other_Sales\"] = (df[\"Global_Sales\"]-df[\"JP_Sales\"]-df[\"EU_Sales\"]-df[\"NA_Sales\"])"
   ]
  },
  {
   "cell_type": "code",
   "execution_count": 17,
   "id": "77ac5fe4",
   "metadata": {},
   "outputs": [
    {
     "data": {
      "text/html": [
       "<div>\n",
       "<style scoped>\n",
       "    .dataframe tbody tr th:only-of-type {\n",
       "        vertical-align: middle;\n",
       "    }\n",
       "\n",
       "    .dataframe tbody tr th {\n",
       "        vertical-align: top;\n",
       "    }\n",
       "\n",
       "    .dataframe thead th {\n",
       "        text-align: right;\n",
       "    }\n",
       "</style>\n",
       "<table border=\"1\" class=\"dataframe\">\n",
       "  <thead>\n",
       "    <tr style=\"text-align: right;\">\n",
       "      <th></th>\n",
       "      <th>Rank</th>\n",
       "      <th>Name</th>\n",
       "      <th>Platform</th>\n",
       "      <th>Year</th>\n",
       "      <th>Genre</th>\n",
       "      <th>Publisher</th>\n",
       "      <th>NA_Sales</th>\n",
       "      <th>EU_Sales</th>\n",
       "      <th>JP_Sales</th>\n",
       "      <th>Other_Sales</th>\n",
       "      <th>Global_Sales</th>\n",
       "    </tr>\n",
       "  </thead>\n",
       "  <tbody>\n",
       "  </tbody>\n",
       "</table>\n",
       "</div>"
      ],
      "text/plain": [
       "Empty DataFrame\n",
       "Columns: [Rank, Name, Platform, Year, Genre, Publisher, NA_Sales, EU_Sales, JP_Sales, Other_Sales, Global_Sales]\n",
       "Index: []"
      ]
     },
     "execution_count": 17,
     "metadata": {},
     "output_type": "execute_result"
    }
   ],
   "source": [
    "df[df['Other_Sales'].isnull()]"
   ]
  },
  {
   "cell_type": "code",
   "execution_count": 18,
   "id": "54e51125",
   "metadata": {},
   "outputs": [
    {
     "data": {
      "text/plain": [
       "Rank              0\n",
       "Name              0\n",
       "Platform          0\n",
       "Year            271\n",
       "Genre             0\n",
       "Publisher        58\n",
       "NA_Sales          0\n",
       "EU_Sales          0\n",
       "JP_Sales          0\n",
       "Other_Sales       0\n",
       "Global_Sales      0\n",
       "dtype: int64"
      ]
     },
     "execution_count": 18,
     "metadata": {},
     "output_type": "execute_result"
    }
   ],
   "source": [
    "# Ver valores nulos\n",
    "\n",
    "df.isnull().sum()"
   ]
  },
  {
   "cell_type": "markdown",
   "id": "8eaeaeee",
   "metadata": {},
   "source": [
    "# Factorizar variables categóricas"
   ]
  },
  {
   "cell_type": "markdown",
   "id": "49ca4f53",
   "metadata": {},
   "source": [
    "Se asigna un número a cada categoría"
   ]
  },
  {
   "cell_type": "markdown",
   "id": "e6cd3b5c",
   "metadata": {},
   "source": [
    "## Plataforma"
   ]
  },
  {
   "cell_type": "code",
   "execution_count": 19,
   "id": "e1ca7582",
   "metadata": {},
   "outputs": [
    {
     "data": {
      "text/plain": [
       "DS      2163\n",
       "PS2     2161\n",
       "PS3     1329\n",
       "Wii     1325\n",
       "X360    1265\n",
       "PSP     1213\n",
       "PS      1196\n",
       "PC       960\n",
       "XB       824\n",
       "GBA      822\n",
       "GC       556\n",
       "3DS      509\n",
       "PSV      413\n",
       "PS4      336\n",
       "N64      319\n",
       "SNES     239\n",
       "XOne     213\n",
       "SAT      173\n",
       "WiiU     143\n",
       "2600     133\n",
       "NES       98\n",
       "GB        98\n",
       "DC        52\n",
       "GEN       27\n",
       "NG        12\n",
       "SCD        6\n",
       "WS         6\n",
       "3DO        3\n",
       "TG16       2\n",
       "GG         1\n",
       "PCFX       1\n",
       "Name: Platform, dtype: int64"
      ]
     },
     "execution_count": 19,
     "metadata": {},
     "output_type": "execute_result"
    }
   ],
   "source": [
    "df.Platform.value_counts()"
   ]
  },
  {
   "cell_type": "code",
   "execution_count": 20,
   "id": "f96777cc",
   "metadata": {},
   "outputs": [],
   "source": [
    "from sklearn.preprocessing import OrdinalEncoder\n",
    "\n",
    "# Creamos el codificador \n",
    "encoder = OrdinalEncoder(categories=[[\"DS\",      \n",
    "\"PS2\",    \n",
    "\"PS3\",     \n",
    "\"Wii\",    \n",
    "\"X360\",   \n",
    "\"PSP\",     \n",
    "\"PS\",      \n",
    "\"PC\",      \n",
    "\"XB\",       \n",
    "\"GBA\",     \n",
    "\"GC\",      \n",
    "\"3DS\",      \n",
    "\"PSV\",      \n",
    "\"PS4\",      \n",
    "\"N64\",     \n",
    "\"SNES\",     \n",
    "\"XOne\",     \n",
    "\"SAT\",      \n",
    "\"WiiU\",     \n",
    "\"2600\",     \n",
    "\"NES\",       \n",
    "\"GB\",        \n",
    "\"DC\",        \n",
    "\"GEN\",       \n",
    "\"NG\",        \n",
    "\"SCD\",        \n",
    "\"WS\",         \n",
    "\"3DO\",        \n",
    "\"TG16\",       \n",
    "\"GG\",         \n",
    "\"PCFX\"]])\n",
    "\n",
    "# Ajustamos el codificador\n",
    "encoder.fit(df[[\"Platform\"]])\n",
    "df[\"Platform_Factorizada\"] = encoder.transform(df[[\"Platform\"]])"
   ]
  },
  {
   "cell_type": "code",
   "execution_count": 21,
   "id": "b616ba4e",
   "metadata": {},
   "outputs": [
    {
     "data": {
      "text/html": [
       "<div>\n",
       "<style scoped>\n",
       "    .dataframe tbody tr th:only-of-type {\n",
       "        vertical-align: middle;\n",
       "    }\n",
       "\n",
       "    .dataframe tbody tr th {\n",
       "        vertical-align: top;\n",
       "    }\n",
       "\n",
       "    .dataframe thead th {\n",
       "        text-align: right;\n",
       "    }\n",
       "</style>\n",
       "<table border=\"1\" class=\"dataframe\">\n",
       "  <thead>\n",
       "    <tr style=\"text-align: right;\">\n",
       "      <th></th>\n",
       "      <th>Platform</th>\n",
       "      <th>Platform_Factorizada</th>\n",
       "    </tr>\n",
       "  </thead>\n",
       "  <tbody>\n",
       "    <tr>\n",
       "      <th>0</th>\n",
       "      <td>Wii</td>\n",
       "      <td>3.0</td>\n",
       "    </tr>\n",
       "    <tr>\n",
       "      <th>1</th>\n",
       "      <td>NES</td>\n",
       "      <td>20.0</td>\n",
       "    </tr>\n",
       "    <tr>\n",
       "      <th>2</th>\n",
       "      <td>Wii</td>\n",
       "      <td>3.0</td>\n",
       "    </tr>\n",
       "    <tr>\n",
       "      <th>3</th>\n",
       "      <td>Wii</td>\n",
       "      <td>3.0</td>\n",
       "    </tr>\n",
       "    <tr>\n",
       "      <th>4</th>\n",
       "      <td>GB</td>\n",
       "      <td>21.0</td>\n",
       "    </tr>\n",
       "    <tr>\n",
       "      <th>5</th>\n",
       "      <td>GB</td>\n",
       "      <td>21.0</td>\n",
       "    </tr>\n",
       "    <tr>\n",
       "      <th>6</th>\n",
       "      <td>DS</td>\n",
       "      <td>0.0</td>\n",
       "    </tr>\n",
       "    <tr>\n",
       "      <th>7</th>\n",
       "      <td>Wii</td>\n",
       "      <td>3.0</td>\n",
       "    </tr>\n",
       "    <tr>\n",
       "      <th>8</th>\n",
       "      <td>Wii</td>\n",
       "      <td>3.0</td>\n",
       "    </tr>\n",
       "    <tr>\n",
       "      <th>9</th>\n",
       "      <td>NES</td>\n",
       "      <td>20.0</td>\n",
       "    </tr>\n",
       "  </tbody>\n",
       "</table>\n",
       "</div>"
      ],
      "text/plain": [
       "  Platform  Platform_Factorizada\n",
       "0      Wii                   3.0\n",
       "1      NES                  20.0\n",
       "2      Wii                   3.0\n",
       "3      Wii                   3.0\n",
       "4       GB                  21.0\n",
       "5       GB                  21.0\n",
       "6       DS                   0.0\n",
       "7      Wii                   3.0\n",
       "8      Wii                   3.0\n",
       "9      NES                  20.0"
      ]
     },
     "execution_count": 21,
     "metadata": {},
     "output_type": "execute_result"
    }
   ],
   "source": [
    "df[[\"Platform\", \"Platform_Factorizada\"]].head(10)"
   ]
  },
  {
   "cell_type": "markdown",
   "id": "3f9fc46d",
   "metadata": {},
   "source": [
    "Verificar que todas las plataformas tengan un número asignado."
   ]
  },
  {
   "cell_type": "code",
   "execution_count": 22,
   "id": "9a08f3b2",
   "metadata": {},
   "outputs": [
    {
     "data": {
      "text/plain": [
       "Rank                      0\n",
       "Name                      0\n",
       "Platform                  0\n",
       "Year                    271\n",
       "Genre                     0\n",
       "Publisher                58\n",
       "NA_Sales                  0\n",
       "EU_Sales                  0\n",
       "JP_Sales                  0\n",
       "Other_Sales               0\n",
       "Global_Sales              0\n",
       "Platform_Factorizada      0\n",
       "dtype: int64"
      ]
     },
     "execution_count": 22,
     "metadata": {},
     "output_type": "execute_result"
    }
   ],
   "source": [
    "df.isnull().sum()"
   ]
  },
  {
   "cell_type": "code",
   "execution_count": 23,
   "id": "88fee38d",
   "metadata": {},
   "outputs": [
    {
     "data": {
      "text/plain": [
       "0.0     2163\n",
       "1.0     2161\n",
       "2.0     1329\n",
       "3.0     1325\n",
       "4.0     1265\n",
       "5.0     1213\n",
       "6.0     1196\n",
       "7.0      960\n",
       "8.0      824\n",
       "9.0      822\n",
       "10.0     556\n",
       "11.0     509\n",
       "12.0     413\n",
       "13.0     336\n",
       "14.0     319\n",
       "15.0     239\n",
       "16.0     213\n",
       "17.0     173\n",
       "18.0     143\n",
       "19.0     133\n",
       "20.0      98\n",
       "21.0      98\n",
       "22.0      52\n",
       "23.0      27\n",
       "24.0      12\n",
       "25.0       6\n",
       "26.0       6\n",
       "27.0       3\n",
       "28.0       2\n",
       "29.0       1\n",
       "30.0       1\n",
       "Name: Platform_Factorizada, dtype: int64"
      ]
     },
     "execution_count": 23,
     "metadata": {},
     "output_type": "execute_result"
    }
   ],
   "source": [
    "df.Platform_Factorizada.value_counts()"
   ]
  },
  {
   "cell_type": "markdown",
   "id": "0803da97",
   "metadata": {},
   "source": [
    "## Género"
   ]
  },
  {
   "cell_type": "code",
   "execution_count": 24,
   "id": "21d05b7b",
   "metadata": {},
   "outputs": [
    {
     "data": {
      "text/plain": [
       "Action          3316\n",
       "Sports          2346\n",
       "Misc            1739\n",
       "Role-Playing    1488\n",
       "Shooter         1310\n",
       "Adventure       1286\n",
       "Racing          1249\n",
       "Platform         886\n",
       "Simulation       867\n",
       "Fighting         848\n",
       "Strategy         681\n",
       "Puzzle           582\n",
       "Name: Genre, dtype: int64"
      ]
     },
     "execution_count": 24,
     "metadata": {},
     "output_type": "execute_result"
    }
   ],
   "source": [
    "df.Genre.value_counts()"
   ]
  },
  {
   "cell_type": "code",
   "execution_count": 25,
   "id": "a6ef1f75",
   "metadata": {},
   "outputs": [],
   "source": [
    "# Creamos el codificador \n",
    "encoder = OrdinalEncoder(categories=[[ \"Action\",\n",
    "\"Sports\",\n",
    "\"Misc\",\n",
    "\"Role-Playing\", \n",
    "\"Shooter\",\n",
    "\"Adventure\",\n",
    "\"Racing\",\n",
    "\"Platform\",\n",
    "\"Simulation\",\n",
    "\"Fighting\",\n",
    "\"Strategy\",\n",
    "\"Puzzle\"  \n",
    "]])\n",
    "\n",
    "# Ajustamos el codificador\n",
    "encoder.fit(df[[\"Genre\"]])\n",
    "df[\"Genre_Factorizado\"] = encoder.transform(df[[\"Genre\"]])"
   ]
  },
  {
   "cell_type": "code",
   "execution_count": 26,
   "id": "5cb69f67",
   "metadata": {},
   "outputs": [
    {
     "data": {
      "text/html": [
       "<div>\n",
       "<style scoped>\n",
       "    .dataframe tbody tr th:only-of-type {\n",
       "        vertical-align: middle;\n",
       "    }\n",
       "\n",
       "    .dataframe tbody tr th {\n",
       "        vertical-align: top;\n",
       "    }\n",
       "\n",
       "    .dataframe thead th {\n",
       "        text-align: right;\n",
       "    }\n",
       "</style>\n",
       "<table border=\"1\" class=\"dataframe\">\n",
       "  <thead>\n",
       "    <tr style=\"text-align: right;\">\n",
       "      <th></th>\n",
       "      <th>Genre</th>\n",
       "      <th>Genre_Factorizado</th>\n",
       "    </tr>\n",
       "  </thead>\n",
       "  <tbody>\n",
       "    <tr>\n",
       "      <th>0</th>\n",
       "      <td>Sports</td>\n",
       "      <td>1.0</td>\n",
       "    </tr>\n",
       "    <tr>\n",
       "      <th>1</th>\n",
       "      <td>Platform</td>\n",
       "      <td>7.0</td>\n",
       "    </tr>\n",
       "    <tr>\n",
       "      <th>2</th>\n",
       "      <td>Racing</td>\n",
       "      <td>6.0</td>\n",
       "    </tr>\n",
       "    <tr>\n",
       "      <th>3</th>\n",
       "      <td>Sports</td>\n",
       "      <td>1.0</td>\n",
       "    </tr>\n",
       "    <tr>\n",
       "      <th>4</th>\n",
       "      <td>Role-Playing</td>\n",
       "      <td>3.0</td>\n",
       "    </tr>\n",
       "    <tr>\n",
       "      <th>5</th>\n",
       "      <td>Puzzle</td>\n",
       "      <td>11.0</td>\n",
       "    </tr>\n",
       "    <tr>\n",
       "      <th>6</th>\n",
       "      <td>Platform</td>\n",
       "      <td>7.0</td>\n",
       "    </tr>\n",
       "    <tr>\n",
       "      <th>7</th>\n",
       "      <td>Misc</td>\n",
       "      <td>2.0</td>\n",
       "    </tr>\n",
       "    <tr>\n",
       "      <th>8</th>\n",
       "      <td>Platform</td>\n",
       "      <td>7.0</td>\n",
       "    </tr>\n",
       "    <tr>\n",
       "      <th>9</th>\n",
       "      <td>Shooter</td>\n",
       "      <td>4.0</td>\n",
       "    </tr>\n",
       "  </tbody>\n",
       "</table>\n",
       "</div>"
      ],
      "text/plain": [
       "          Genre  Genre_Factorizado\n",
       "0        Sports                1.0\n",
       "1      Platform                7.0\n",
       "2        Racing                6.0\n",
       "3        Sports                1.0\n",
       "4  Role-Playing                3.0\n",
       "5        Puzzle               11.0\n",
       "6      Platform                7.0\n",
       "7          Misc                2.0\n",
       "8      Platform                7.0\n",
       "9       Shooter                4.0"
      ]
     },
     "execution_count": 26,
     "metadata": {},
     "output_type": "execute_result"
    }
   ],
   "source": [
    "df[[\"Genre\", \"Genre_Factorizado\"]].head(10)"
   ]
  },
  {
   "cell_type": "code",
   "execution_count": 27,
   "id": "47e24100",
   "metadata": {},
   "outputs": [
    {
     "data": {
      "text/plain": [
       "0.0     3316\n",
       "1.0     2346\n",
       "2.0     1739\n",
       "3.0     1488\n",
       "4.0     1310\n",
       "5.0     1286\n",
       "6.0     1249\n",
       "7.0      886\n",
       "8.0      867\n",
       "9.0      848\n",
       "10.0     681\n",
       "11.0     582\n",
       "Name: Genre_Factorizado, dtype: int64"
      ]
     },
     "execution_count": 27,
     "metadata": {},
     "output_type": "execute_result"
    }
   ],
   "source": [
    "df.Genre_Factorizado.value_counts()"
   ]
  },
  {
   "cell_type": "code",
   "execution_count": 28,
   "id": "baba42a9",
   "metadata": {},
   "outputs": [
    {
     "data": {
      "text/plain": [
       "Rank                      0\n",
       "Name                      0\n",
       "Platform                  0\n",
       "Year                    271\n",
       "Genre                     0\n",
       "Publisher                58\n",
       "NA_Sales                  0\n",
       "EU_Sales                  0\n",
       "JP_Sales                  0\n",
       "Other_Sales               0\n",
       "Global_Sales              0\n",
       "Platform_Factorizada      0\n",
       "Genre_Factorizado         0\n",
       "dtype: int64"
      ]
     },
     "execution_count": 28,
     "metadata": {},
     "output_type": "execute_result"
    }
   ],
   "source": [
    "df.isnull().sum()"
   ]
  },
  {
   "cell_type": "markdown",
   "id": "d6e3248e",
   "metadata": {},
   "source": [
    "# Separar el dataset en dos, train y test (80% - 20%)"
   ]
  },
  {
   "cell_type": "code",
   "execution_count": 29,
   "id": "3d917ad7",
   "metadata": {},
   "outputs": [],
   "source": [
    "X = df[[\"Global_Sales\",\"JP_Sales\", \"Platform_Factorizada\"]]\n",
    "y= df[\"Genre_Factorizado\"]"
   ]
  },
  {
   "cell_type": "code",
   "execution_count": 30,
   "id": "c553916e",
   "metadata": {},
   "outputs": [],
   "source": [
    "X_train,X_test,y_train,y_test = train_test_split(X,y,test_size=0.20,random_state=1)"
   ]
  },
  {
   "cell_type": "markdown",
   "id": "ecf45a2c",
   "metadata": {},
   "source": [
    "# Ejecutar Random Forest"
   ]
  },
  {
   "cell_type": "code",
   "execution_count": 31,
   "id": "81321246",
   "metadata": {},
   "outputs": [
    {
     "data": {
      "text/plain": [
       "RandomForestClassifier(random_state=1)"
      ]
     },
     "execution_count": 31,
     "metadata": {},
     "output_type": "execute_result"
    }
   ],
   "source": [
    "#Entrenar\n",
    "clf = RandomForestClassifier(random_state=1)\n",
    "clf.fit(X_train,y_train)\n"
   ]
  },
  {
   "cell_type": "code",
   "execution_count": 32,
   "id": "0d2edda2",
   "metadata": {},
   "outputs": [],
   "source": [
    "#Hacer predicción\n",
    "y_pred=clf.predict(X_test)\n"
   ]
  },
  {
   "cell_type": "markdown",
   "id": "bc9751ed",
   "metadata": {},
   "source": [
    "## Evaluar Modelo"
   ]
  },
  {
   "cell_type": "code",
   "execution_count": 33,
   "id": "849fadf5",
   "metadata": {},
   "outputs": [
    {
     "name": "stdout",
     "output_type": "stream",
     "text": [
      "[[207 111  58  42  58  50  50  22  22  13  22  20]\n",
      " [122 126  47  28  26  15  37  14  11  22  12   8]\n",
      " [ 87  59  69  20  12  25  23   3  16   3   5  10]\n",
      " [ 80  33  21  65   8  25  13  10   7  11  17   5]\n",
      " [ 83  49  18  19  24  12  31   6   9   5  18   5]\n",
      " [ 60  17  34  18   4  75   9   5  12   4  13   7]\n",
      " [ 63  65  22  14  19   9  31   9   5  10   8   6]\n",
      " [ 33  26  19  13   9   6  18  16   5   8   3  12]\n",
      " [ 50  19  28  12   4  16   4   7  16   2  13   6]\n",
      " [ 37  29  13  22  12  16  12   6   1  13   1   5]\n",
      " [ 28  19  20   9   8  13   3   3   5   6  20   2]\n",
      " [ 20   8  16  13   3   5   4   5   9   4   7  10]]\n",
      "              precision    recall  f1-score   support\n",
      "\n",
      "         0.0       0.24      0.31      0.27       675\n",
      "         1.0       0.22      0.27      0.24       468\n",
      "         2.0       0.19      0.21      0.20       332\n",
      "         3.0       0.24      0.22      0.23       295\n",
      "         4.0       0.13      0.09      0.10       279\n",
      "         5.0       0.28      0.29      0.29       258\n",
      "         6.0       0.13      0.12      0.12       261\n",
      "         7.0       0.15      0.10      0.12       168\n",
      "         8.0       0.14      0.09      0.11       177\n",
      "         9.0       0.13      0.08      0.10       167\n",
      "        10.0       0.14      0.15      0.15       136\n",
      "        11.0       0.10      0.10      0.10       104\n",
      "\n",
      "    accuracy                           0.20      3320\n",
      "   macro avg       0.17      0.17      0.17      3320\n",
      "weighted avg       0.19      0.20      0.20      3320\n",
      "\n",
      "Accuracy:  0.20240963855421687\n"
     ]
    }
   ],
   "source": [
    "\n",
    "print(confusion_matrix(y_test,y_pred))\n",
    "\n",
    "print(classification_report(y_test,y_pred))\n",
    "\n",
    "print(\"Accuracy: \", accuracy_score(y_test, y_pred))\n"
   ]
  },
  {
   "cell_type": "markdown",
   "id": "99074003",
   "metadata": {},
   "source": [
    "# Ejecutar árboles de decisión"
   ]
  },
  {
   "cell_type": "code",
   "execution_count": 34,
   "id": "b216cab5",
   "metadata": {},
   "outputs": [
    {
     "data": {
      "text/plain": [
       "DecisionTreeClassifier(random_state=1)"
      ]
     },
     "execution_count": 34,
     "metadata": {},
     "output_type": "execute_result"
    }
   ],
   "source": [
    "#Entrenar\n",
    "classifier = DecisionTreeClassifier(random_state=1)\n",
    "classifier.fit(X_train, y_train)\n"
   ]
  },
  {
   "cell_type": "code",
   "execution_count": 35,
   "id": "b69c79f8",
   "metadata": {},
   "outputs": [],
   "source": [
    "#Hacer predicción\n",
    "\n",
    "y_pred = classifier.predict(X_test)"
   ]
  },
  {
   "cell_type": "markdown",
   "id": "12fec0ec",
   "metadata": {},
   "source": [
    "## Evaluar Modelo"
   ]
  },
  {
   "cell_type": "code",
   "execution_count": 36,
   "id": "a42c0f66",
   "metadata": {
    "scrolled": true
   },
   "outputs": [
    {
     "name": "stdout",
     "output_type": "stream",
     "text": [
      "[[260 121  57  32  44  43  37  16  17  13  19  16]\n",
      " [159 125  42  29  20  20  32   9   9  12   8   3]\n",
      " [104  62  58  21  11  27  18   1  17   2   3   8]\n",
      " [ 95  40  26  50   7  26  11   7   7   8  14   4]\n",
      " [ 92  46  15  16  27  13  28   8   8   8  14   4]\n",
      " [ 68  23  37  15   3  71  10   3   9   2  10   7]\n",
      " [ 82  68  25  14  16   5  23   6   5   4   6   7]\n",
      " [ 40  31  19  11  10   5  14  17   5   4   3   9]\n",
      " [ 53  24  23  14   2  16   4   5  17   2  11   6]\n",
      " [ 54  32  10  18  12  16   6   2   1  11   1   4]\n",
      " [ 34  19  18  11   6  14   3   4   6   3  17   1]\n",
      " [ 22  12  16  11   2   6   2   3  11   4   6   9]]\n",
      "\n",
      "              precision    recall  f1-score   support\n",
      "\n",
      "         0.0       0.24      0.39      0.30       675\n",
      "         1.0       0.21      0.27      0.23       468\n",
      "         2.0       0.17      0.17      0.17       332\n",
      "         3.0       0.21      0.17      0.19       295\n",
      "         4.0       0.17      0.10      0.12       279\n",
      "         5.0       0.27      0.28      0.27       258\n",
      "         6.0       0.12      0.09      0.10       261\n",
      "         7.0       0.21      0.10      0.14       168\n",
      "         8.0       0.15      0.10      0.12       177\n",
      "         9.0       0.15      0.07      0.09       167\n",
      "        10.0       0.15      0.12      0.14       136\n",
      "        11.0       0.12      0.09      0.10       104\n",
      "\n",
      "    accuracy                           0.21      3320\n",
      "   macro avg       0.18      0.16      0.16      3320\n",
      "weighted avg       0.20      0.21      0.19      3320\n",
      "\n",
      "Accuracy:  0.2063253012048193\n"
     ]
    }
   ],
   "source": [
    "\n",
    "print(confusion_matrix(y_test, y_pred))\n",
    "print(\"\")\n",
    "print(classification_report(y_test, y_pred))\n",
    "print(\"Accuracy: \", accuracy_score(y_test, y_pred))\n"
   ]
  },
  {
   "cell_type": "code",
   "execution_count": null,
   "id": "aab71634",
   "metadata": {},
   "outputs": [],
   "source": []
  },
  {
   "cell_type": "code",
   "execution_count": null,
   "id": "0023a902",
   "metadata": {},
   "outputs": [],
   "source": []
  },
  {
   "cell_type": "code",
   "execution_count": null,
   "id": "24494494",
   "metadata": {},
   "outputs": [],
   "source": []
  }
 ],
 "metadata": {
  "kernelspec": {
   "display_name": "Python 3 (ipykernel)",
   "language": "python",
   "name": "python3"
  },
  "language_info": {
   "codemirror_mode": {
    "name": "ipython",
    "version": 3
   },
   "file_extension": ".py",
   "mimetype": "text/x-python",
   "name": "python",
   "nbconvert_exporter": "python",
   "pygments_lexer": "ipython3",
   "version": "3.9.6"
  }
 },
 "nbformat": 4,
 "nbformat_minor": 5
}
