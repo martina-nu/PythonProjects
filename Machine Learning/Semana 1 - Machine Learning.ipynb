{
 "cells": [
  {
   "cell_type": "markdown",
   "id": "f1d52c97",
   "metadata": {},
   "source": [
    "# Tarea Semana 1\n",
    "\n",
    "\n"
   ]
  },
  {
   "cell_type": "markdown",
   "id": "b97476b4",
   "metadata": {},
   "source": [
    "- Recuperar el dataset\n",
    "- Analizar y preparar el dataset \n",
    "- Separar el dataset en dos, train y test (80% - 20%)\n",
    "- Ejecutar el modelo supervisado linear regression, la variable a predecir es Global_Sales \n",
    "- Calcular el error del modelo"
   ]
  },
  {
   "cell_type": "code",
   "execution_count": 1,
   "id": "ec68cf18",
   "metadata": {},
   "outputs": [],
   "source": [
    "import pandas as pd\n",
    "import numpy as  np\n",
    "from scipy import stats\n",
    "from sklearn.model_selection import train_test_split\n",
    "from sklearn.linear_model import LinearRegression\n",
    "import numpy as  np\n",
    "import matplotlib.pyplot as plt\n",
    "from sklearn.metrics import r2_score\n",
    "from sklearn.metrics import mean_squared_error"
   ]
  },
  {
   "cell_type": "markdown",
   "id": "c1e287c8",
   "metadata": {},
   "source": [
    "## Recuperar DataSet"
   ]
  },
  {
   "cell_type": "code",
   "execution_count": 2,
   "id": "3d7dfbc5",
   "metadata": {},
   "outputs": [
    {
     "data": {
      "text/html": [
       "<div>\n",
       "<style scoped>\n",
       "    .dataframe tbody tr th:only-of-type {\n",
       "        vertical-align: middle;\n",
       "    }\n",
       "\n",
       "    .dataframe tbody tr th {\n",
       "        vertical-align: top;\n",
       "    }\n",
       "\n",
       "    .dataframe thead th {\n",
       "        text-align: right;\n",
       "    }\n",
       "</style>\n",
       "<table border=\"1\" class=\"dataframe\">\n",
       "  <thead>\n",
       "    <tr style=\"text-align: right;\">\n",
       "      <th></th>\n",
       "      <th>Rank</th>\n",
       "      <th>Name</th>\n",
       "      <th>Platform</th>\n",
       "      <th>Year</th>\n",
       "      <th>Genre</th>\n",
       "      <th>Publisher</th>\n",
       "      <th>NA_Sales</th>\n",
       "      <th>EU_Sales</th>\n",
       "      <th>JP_Sales</th>\n",
       "      <th>Other_Sales</th>\n",
       "      <th>Global_Sales</th>\n",
       "    </tr>\n",
       "  </thead>\n",
       "  <tbody>\n",
       "    <tr>\n",
       "      <th>0</th>\n",
       "      <td>1</td>\n",
       "      <td>Wii Sports</td>\n",
       "      <td>Wii</td>\n",
       "      <td>2006.0</td>\n",
       "      <td>Sports</td>\n",
       "      <td>Nintendo</td>\n",
       "      <td>41.49</td>\n",
       "      <td>29.02</td>\n",
       "      <td>3.77</td>\n",
       "      <td>8.46</td>\n",
       "      <td>82.74</td>\n",
       "    </tr>\n",
       "    <tr>\n",
       "      <th>1</th>\n",
       "      <td>2</td>\n",
       "      <td>Super Mario Bros.</td>\n",
       "      <td>NES</td>\n",
       "      <td>1985.0</td>\n",
       "      <td>Platform</td>\n",
       "      <td>Nintendo</td>\n",
       "      <td>29.08</td>\n",
       "      <td>3.58</td>\n",
       "      <td>6.81</td>\n",
       "      <td>0.77</td>\n",
       "      <td>40.24</td>\n",
       "    </tr>\n",
       "    <tr>\n",
       "      <th>2</th>\n",
       "      <td>3</td>\n",
       "      <td>Mario Kart Wii</td>\n",
       "      <td>Wii</td>\n",
       "      <td>2008.0</td>\n",
       "      <td>Racing</td>\n",
       "      <td>Nintendo</td>\n",
       "      <td>15.85</td>\n",
       "      <td>12.88</td>\n",
       "      <td>3.79</td>\n",
       "      <td>3.31</td>\n",
       "      <td>35.82</td>\n",
       "    </tr>\n",
       "    <tr>\n",
       "      <th>3</th>\n",
       "      <td>4</td>\n",
       "      <td>Wii Sports Resort</td>\n",
       "      <td>Wii</td>\n",
       "      <td>2009.0</td>\n",
       "      <td>Sports</td>\n",
       "      <td>Nintendo</td>\n",
       "      <td>15.75</td>\n",
       "      <td>11.01</td>\n",
       "      <td>3.28</td>\n",
       "      <td>2.96</td>\n",
       "      <td>33.00</td>\n",
       "    </tr>\n",
       "    <tr>\n",
       "      <th>4</th>\n",
       "      <td>5</td>\n",
       "      <td>Pokemon Red/Pokemon Blue</td>\n",
       "      <td>GB</td>\n",
       "      <td>1996.0</td>\n",
       "      <td>Role-Playing</td>\n",
       "      <td>Nintendo</td>\n",
       "      <td>11.27</td>\n",
       "      <td>8.89</td>\n",
       "      <td>10.22</td>\n",
       "      <td>1.00</td>\n",
       "      <td>31.37</td>\n",
       "    </tr>\n",
       "  </tbody>\n",
       "</table>\n",
       "</div>"
      ],
      "text/plain": [
       "   Rank                      Name Platform    Year         Genre Publisher  \\\n",
       "0     1                Wii Sports      Wii  2006.0        Sports  Nintendo   \n",
       "1     2         Super Mario Bros.      NES  1985.0      Platform  Nintendo   \n",
       "2     3            Mario Kart Wii      Wii  2008.0        Racing  Nintendo   \n",
       "3     4         Wii Sports Resort      Wii  2009.0        Sports  Nintendo   \n",
       "4     5  Pokemon Red/Pokemon Blue       GB  1996.0  Role-Playing  Nintendo   \n",
       "\n",
       "   NA_Sales  EU_Sales  JP_Sales  Other_Sales  Global_Sales  \n",
       "0     41.49     29.02      3.77         8.46         82.74  \n",
       "1     29.08      3.58      6.81         0.77         40.24  \n",
       "2     15.85     12.88      3.79         3.31         35.82  \n",
       "3     15.75     11.01      3.28         2.96         33.00  \n",
       "4     11.27      8.89     10.22         1.00         31.37  "
      ]
     },
     "execution_count": 2,
     "metadata": {},
     "output_type": "execute_result"
    }
   ],
   "source": [
    "df = pd.read_csv(\"vgsales v3.csv\", sep=';')\n",
    "df.head()"
   ]
  },
  {
   "cell_type": "markdown",
   "id": "9e4268b6",
   "metadata": {},
   "source": [
    "# Analizar y preparar DataSet"
   ]
  },
  {
   "cell_type": "code",
   "execution_count": 3,
   "id": "5fbc007a",
   "metadata": {},
   "outputs": [
    {
     "data": {
      "text/plain": [
       "Rank              int64\n",
       "Name             object\n",
       "Platform         object\n",
       "Year            float64\n",
       "Genre            object\n",
       "Publisher        object\n",
       "NA_Sales        float64\n",
       "EU_Sales        float64\n",
       "JP_Sales        float64\n",
       "Other_Sales     float64\n",
       "Global_Sales    float64\n",
       "dtype: object"
      ]
     },
     "execution_count": 3,
     "metadata": {},
     "output_type": "execute_result"
    }
   ],
   "source": [
    "#Ver tipos de datos\n",
    "df.dtypes"
   ]
  },
  {
   "cell_type": "code",
   "execution_count": 4,
   "id": "ca78c960",
   "metadata": {},
   "outputs": [
    {
     "data": {
      "text/plain": [
       "Rank              0\n",
       "Name              0\n",
       "Platform          0\n",
       "Year            271\n",
       "Genre             0\n",
       "Publisher        58\n",
       "NA_Sales          0\n",
       "EU_Sales          5\n",
       "JP_Sales          4\n",
       "Other_Sales       4\n",
       "Global_Sales      6\n",
       "dtype: int64"
      ]
     },
     "execution_count": 4,
     "metadata": {},
     "output_type": "execute_result"
    }
   ],
   "source": [
    "# Ver valores nulos\n",
    "\n",
    "df.isnull().sum()"
   ]
  },
  {
   "cell_type": "markdown",
   "id": "4e45f806",
   "metadata": {},
   "source": [
    "## Manejar valores nulos"
   ]
  },
  {
   "cell_type": "markdown",
   "id": "504bcf93",
   "metadata": {},
   "source": [
    "Dado que existen valores nulos correspondientes a las ventas de cada lugar debemos solucionarlo para que no afecten el resultado final.\n",
    "La suma de las ventas de cada lugar, resultan en Global Sales."
   ]
  },
  {
   "cell_type": "markdown",
   "id": "25248d9c",
   "metadata": {},
   "source": [
    "### Global Sales"
   ]
  },
  {
   "cell_type": "markdown",
   "id": "a1e47b58",
   "metadata": {},
   "source": [
    "Se realiza la suma de los valores de las columnas NA_Sales, EU_Sales, JP_Sales, y Other Sales"
   ]
  },
  {
   "cell_type": "code",
   "execution_count": 5,
   "id": "e2bce043",
   "metadata": {},
   "outputs": [
    {
     "data": {
      "text/html": [
       "<div>\n",
       "<style scoped>\n",
       "    .dataframe tbody tr th:only-of-type {\n",
       "        vertical-align: middle;\n",
       "    }\n",
       "\n",
       "    .dataframe tbody tr th {\n",
       "        vertical-align: top;\n",
       "    }\n",
       "\n",
       "    .dataframe thead th {\n",
       "        text-align: right;\n",
       "    }\n",
       "</style>\n",
       "<table border=\"1\" class=\"dataframe\">\n",
       "  <thead>\n",
       "    <tr style=\"text-align: right;\">\n",
       "      <th></th>\n",
       "      <th>Rank</th>\n",
       "      <th>Name</th>\n",
       "      <th>Platform</th>\n",
       "      <th>Year</th>\n",
       "      <th>Genre</th>\n",
       "      <th>Publisher</th>\n",
       "      <th>NA_Sales</th>\n",
       "      <th>EU_Sales</th>\n",
       "      <th>JP_Sales</th>\n",
       "      <th>Other_Sales</th>\n",
       "      <th>Global_Sales</th>\n",
       "    </tr>\n",
       "  </thead>\n",
       "  <tbody>\n",
       "    <tr>\n",
       "      <th>230</th>\n",
       "      <td>231</td>\n",
       "      <td>Guitar Hero III: Legends of Rock</td>\n",
       "      <td>Wii</td>\n",
       "      <td>2007.0</td>\n",
       "      <td>Misc</td>\n",
       "      <td>Activision</td>\n",
       "      <td>3.06</td>\n",
       "      <td>1.12</td>\n",
       "      <td>0.00</td>\n",
       "      <td>0.44</td>\n",
       "      <td>NaN</td>\n",
       "    </tr>\n",
       "    <tr>\n",
       "      <th>231</th>\n",
       "      <td>232</td>\n",
       "      <td>The Legend of Zelda: A Link to the Past</td>\n",
       "      <td>SNES</td>\n",
       "      <td>1991.0</td>\n",
       "      <td>Action</td>\n",
       "      <td>Nintendo</td>\n",
       "      <td>2.42</td>\n",
       "      <td>0.91</td>\n",
       "      <td>1.15</td>\n",
       "      <td>0.13</td>\n",
       "      <td>NaN</td>\n",
       "    </tr>\n",
       "    <tr>\n",
       "      <th>232</th>\n",
       "      <td>233</td>\n",
       "      <td>The Legend of Zelda: The Wind Waker</td>\n",
       "      <td>GC</td>\n",
       "      <td>2002.0</td>\n",
       "      <td>Action</td>\n",
       "      <td>Nintendo</td>\n",
       "      <td>2.60</td>\n",
       "      <td>0.99</td>\n",
       "      <td>0.89</td>\n",
       "      <td>0.13</td>\n",
       "      <td>NaN</td>\n",
       "    </tr>\n",
       "    <tr>\n",
       "      <th>233</th>\n",
       "      <td>234</td>\n",
       "      <td>Mario &amp; Sonic at the Olympic Winter Games</td>\n",
       "      <td>Wii</td>\n",
       "      <td>2009.0</td>\n",
       "      <td>Sports</td>\n",
       "      <td>Sega</td>\n",
       "      <td>1.89</td>\n",
       "      <td>1.99</td>\n",
       "      <td>0.22</td>\n",
       "      <td>0.48</td>\n",
       "      <td>NaN</td>\n",
       "    </tr>\n",
       "    <tr>\n",
       "      <th>234</th>\n",
       "      <td>235</td>\n",
       "      <td>Luigi's Mansion: Dark Moon</td>\n",
       "      <td>3DS</td>\n",
       "      <td>2013.0</td>\n",
       "      <td>Action</td>\n",
       "      <td>Nintendo</td>\n",
       "      <td>1.78</td>\n",
       "      <td>1.39</td>\n",
       "      <td>1.10</td>\n",
       "      <td>0.30</td>\n",
       "      <td>NaN</td>\n",
       "    </tr>\n",
       "    <tr>\n",
       "      <th>339</th>\n",
       "      <td>340</td>\n",
       "      <td>Tony Hawk's Pro Skater 4</td>\n",
       "      <td>PS2</td>\n",
       "      <td>2002.0</td>\n",
       "      <td>Sports</td>\n",
       "      <td>Activision</td>\n",
       "      <td>2.13</td>\n",
       "      <td>1.18</td>\n",
       "      <td>0.01</td>\n",
       "      <td>0.35</td>\n",
       "      <td>NaN</td>\n",
       "    </tr>\n",
       "  </tbody>\n",
       "</table>\n",
       "</div>"
      ],
      "text/plain": [
       "     Rank                                       Name Platform    Year   Genre  \\\n",
       "230   231           Guitar Hero III: Legends of Rock      Wii  2007.0    Misc   \n",
       "231   232    The Legend of Zelda: A Link to the Past     SNES  1991.0  Action   \n",
       "232   233        The Legend of Zelda: The Wind Waker       GC  2002.0  Action   \n",
       "233   234  Mario & Sonic at the Olympic Winter Games      Wii  2009.0  Sports   \n",
       "234   235                 Luigi's Mansion: Dark Moon      3DS  2013.0  Action   \n",
       "339   340                   Tony Hawk's Pro Skater 4      PS2  2002.0  Sports   \n",
       "\n",
       "      Publisher  NA_Sales  EU_Sales  JP_Sales  Other_Sales  Global_Sales  \n",
       "230  Activision      3.06      1.12      0.00         0.44           NaN  \n",
       "231    Nintendo      2.42      0.91      1.15         0.13           NaN  \n",
       "232    Nintendo      2.60      0.99      0.89         0.13           NaN  \n",
       "233        Sega      1.89      1.99      0.22         0.48           NaN  \n",
       "234    Nintendo      1.78      1.39      1.10         0.30           NaN  \n",
       "339  Activision      2.13      1.18      0.01         0.35           NaN  "
      ]
     },
     "execution_count": 5,
     "metadata": {},
     "output_type": "execute_result"
    }
   ],
   "source": [
    "#Filas donde existen valores nulos\n",
    "\n",
    "df[df['Global_Sales'].isnull()]"
   ]
  },
  {
   "cell_type": "code",
   "execution_count": 6,
   "id": "51546bd5",
   "metadata": {},
   "outputs": [],
   "source": [
    "randGlobal_Sales = df[\"EU_Sales\"] + df[\"NA_Sales\"] + df[\"JP_Sales\"] + df[\"Other_Sales\"]"
   ]
  },
  {
   "cell_type": "code",
   "execution_count": 7,
   "id": "e9762482",
   "metadata": {},
   "outputs": [],
   "source": [
    "df.Global_Sales = df.Global_Sales.fillna(randGlobal_Sales)"
   ]
  },
  {
   "cell_type": "code",
   "execution_count": 8,
   "id": "4c85e55a",
   "metadata": {},
   "outputs": [
    {
     "data": {
      "text/html": [
       "<div>\n",
       "<style scoped>\n",
       "    .dataframe tbody tr th:only-of-type {\n",
       "        vertical-align: middle;\n",
       "    }\n",
       "\n",
       "    .dataframe tbody tr th {\n",
       "        vertical-align: top;\n",
       "    }\n",
       "\n",
       "    .dataframe thead th {\n",
       "        text-align: right;\n",
       "    }\n",
       "</style>\n",
       "<table border=\"1\" class=\"dataframe\">\n",
       "  <thead>\n",
       "    <tr style=\"text-align: right;\">\n",
       "      <th></th>\n",
       "      <th>Rank</th>\n",
       "      <th>Name</th>\n",
       "      <th>Platform</th>\n",
       "      <th>Year</th>\n",
       "      <th>Genre</th>\n",
       "      <th>Publisher</th>\n",
       "      <th>NA_Sales</th>\n",
       "      <th>EU_Sales</th>\n",
       "      <th>JP_Sales</th>\n",
       "      <th>Other_Sales</th>\n",
       "      <th>Global_Sales</th>\n",
       "    </tr>\n",
       "  </thead>\n",
       "  <tbody>\n",
       "  </tbody>\n",
       "</table>\n",
       "</div>"
      ],
      "text/plain": [
       "Empty DataFrame\n",
       "Columns: [Rank, Name, Platform, Year, Genre, Publisher, NA_Sales, EU_Sales, JP_Sales, Other_Sales, Global_Sales]\n",
       "Index: []"
      ]
     },
     "execution_count": 8,
     "metadata": {},
     "output_type": "execute_result"
    }
   ],
   "source": [
    "df[df['Global_Sales'].isnull()]"
   ]
  },
  {
   "cell_type": "markdown",
   "id": "54817ce7",
   "metadata": {},
   "source": [
    "### EU_Sales"
   ]
  },
  {
   "cell_type": "markdown",
   "id": "4c232dff",
   "metadata": {},
   "source": [
    "Se realiza la suma de NA_Sales, JP_Sales y Other_Sales, y luego se le resta a Global_Sales, con el fin de obtener EU_Sales"
   ]
  },
  {
   "cell_type": "code",
   "execution_count": 9,
   "id": "1a845aba",
   "metadata": {},
   "outputs": [
    {
     "data": {
      "text/html": [
       "<div>\n",
       "<style scoped>\n",
       "    .dataframe tbody tr th:only-of-type {\n",
       "        vertical-align: middle;\n",
       "    }\n",
       "\n",
       "    .dataframe tbody tr th {\n",
       "        vertical-align: top;\n",
       "    }\n",
       "\n",
       "    .dataframe thead th {\n",
       "        text-align: right;\n",
       "    }\n",
       "</style>\n",
       "<table border=\"1\" class=\"dataframe\">\n",
       "  <thead>\n",
       "    <tr style=\"text-align: right;\">\n",
       "      <th></th>\n",
       "      <th>Rank</th>\n",
       "      <th>Name</th>\n",
       "      <th>Platform</th>\n",
       "      <th>Year</th>\n",
       "      <th>Genre</th>\n",
       "      <th>Publisher</th>\n",
       "      <th>NA_Sales</th>\n",
       "      <th>EU_Sales</th>\n",
       "      <th>JP_Sales</th>\n",
       "      <th>Other_Sales</th>\n",
       "      <th>Global_Sales</th>\n",
       "    </tr>\n",
       "  </thead>\n",
       "  <tbody>\n",
       "    <tr>\n",
       "      <th>76</th>\n",
       "      <td>77</td>\n",
       "      <td>Super Mario Kart</td>\n",
       "      <td>SNES</td>\n",
       "      <td>1992.0</td>\n",
       "      <td>Racing</td>\n",
       "      <td>Nintendo</td>\n",
       "      <td>3.54</td>\n",
       "      <td>NaN</td>\n",
       "      <td>3.81</td>\n",
       "      <td>0.18</td>\n",
       "      <td>8.76</td>\n",
       "    </tr>\n",
       "    <tr>\n",
       "      <th>131</th>\n",
       "      <td>132</td>\n",
       "      <td>Kingdom Hearts</td>\n",
       "      <td>PS2</td>\n",
       "      <td>2002.0</td>\n",
       "      <td>Role-Playing</td>\n",
       "      <td>Sony Computer Entertainment</td>\n",
       "      <td>3.64</td>\n",
       "      <td>NaN</td>\n",
       "      <td>1.49</td>\n",
       "      <td>0.07</td>\n",
       "      <td>6.40</td>\n",
       "    </tr>\n",
       "    <tr>\n",
       "      <th>132</th>\n",
       "      <td>133</td>\n",
       "      <td>Pokémon Crystal Version</td>\n",
       "      <td>GB</td>\n",
       "      <td>2000.0</td>\n",
       "      <td>Role-Playing</td>\n",
       "      <td>Nintendo</td>\n",
       "      <td>2.55</td>\n",
       "      <td>NaN</td>\n",
       "      <td>1.29</td>\n",
       "      <td>0.99</td>\n",
       "      <td>6.39</td>\n",
       "    </tr>\n",
       "    <tr>\n",
       "      <th>133</th>\n",
       "      <td>134</td>\n",
       "      <td>Halo 3: ODST</td>\n",
       "      <td>X360</td>\n",
       "      <td>2009.0</td>\n",
       "      <td>Shooter</td>\n",
       "      <td>Microsoft Game Studios</td>\n",
       "      <td>4.34</td>\n",
       "      <td>NaN</td>\n",
       "      <td>0.06</td>\n",
       "      <td>0.61</td>\n",
       "      <td>6.36</td>\n",
       "    </tr>\n",
       "    <tr>\n",
       "      <th>317</th>\n",
       "      <td>318</td>\n",
       "      <td>Namco Museum Vol.1</td>\n",
       "      <td>PS</td>\n",
       "      <td>1995.0</td>\n",
       "      <td>Misc</td>\n",
       "      <td>Sony Computer Entertainment</td>\n",
       "      <td>2.12</td>\n",
       "      <td>NaN</td>\n",
       "      <td>0.22</td>\n",
       "      <td>0.06</td>\n",
       "      <td>3.84</td>\n",
       "    </tr>\n",
       "  </tbody>\n",
       "</table>\n",
       "</div>"
      ],
      "text/plain": [
       "     Rank                     Name Platform    Year         Genre  \\\n",
       "76     77         Super Mario Kart     SNES  1992.0        Racing   \n",
       "131   132           Kingdom Hearts      PS2  2002.0  Role-Playing   \n",
       "132   133  Pokémon Crystal Version       GB  2000.0  Role-Playing   \n",
       "133   134             Halo 3: ODST     X360  2009.0       Shooter   \n",
       "317   318       Namco Museum Vol.1       PS  1995.0          Misc   \n",
       "\n",
       "                       Publisher  NA_Sales  EU_Sales  JP_Sales  Other_Sales  \\\n",
       "76                      Nintendo      3.54       NaN      3.81         0.18   \n",
       "131  Sony Computer Entertainment      3.64       NaN      1.49         0.07   \n",
       "132                     Nintendo      2.55       NaN      1.29         0.99   \n",
       "133       Microsoft Game Studios      4.34       NaN      0.06         0.61   \n",
       "317  Sony Computer Entertainment      2.12       NaN      0.22         0.06   \n",
       "\n",
       "     Global_Sales  \n",
       "76           8.76  \n",
       "131          6.40  \n",
       "132          6.39  \n",
       "133          6.36  \n",
       "317          3.84  "
      ]
     },
     "execution_count": 9,
     "metadata": {},
     "output_type": "execute_result"
    }
   ],
   "source": [
    "#Filas donde existen valores nulos\n",
    "\n",
    "df[df['EU_Sales'].isnull()]"
   ]
  },
  {
   "cell_type": "code",
   "execution_count": 10,
   "id": "f1dac5dc",
   "metadata": {},
   "outputs": [],
   "source": [
    "df.loc[np.isnan(df[\"EU_Sales\"]), \"EU_Sales\"] = (df[\"Global_Sales\"]-df[\"Other_Sales\"]-df[\"JP_Sales\"]-df[\"NA_Sales\"])"
   ]
  },
  {
   "cell_type": "code",
   "execution_count": 11,
   "id": "bc2904b7",
   "metadata": {},
   "outputs": [
    {
     "data": {
      "text/html": [
       "<div>\n",
       "<style scoped>\n",
       "    .dataframe tbody tr th:only-of-type {\n",
       "        vertical-align: middle;\n",
       "    }\n",
       "\n",
       "    .dataframe tbody tr th {\n",
       "        vertical-align: top;\n",
       "    }\n",
       "\n",
       "    .dataframe thead th {\n",
       "        text-align: right;\n",
       "    }\n",
       "</style>\n",
       "<table border=\"1\" class=\"dataframe\">\n",
       "  <thead>\n",
       "    <tr style=\"text-align: right;\">\n",
       "      <th></th>\n",
       "      <th>Rank</th>\n",
       "      <th>Name</th>\n",
       "      <th>Platform</th>\n",
       "      <th>Year</th>\n",
       "      <th>Genre</th>\n",
       "      <th>Publisher</th>\n",
       "      <th>NA_Sales</th>\n",
       "      <th>EU_Sales</th>\n",
       "      <th>JP_Sales</th>\n",
       "      <th>Other_Sales</th>\n",
       "      <th>Global_Sales</th>\n",
       "    </tr>\n",
       "  </thead>\n",
       "  <tbody>\n",
       "  </tbody>\n",
       "</table>\n",
       "</div>"
      ],
      "text/plain": [
       "Empty DataFrame\n",
       "Columns: [Rank, Name, Platform, Year, Genre, Publisher, NA_Sales, EU_Sales, JP_Sales, Other_Sales, Global_Sales]\n",
       "Index: []"
      ]
     },
     "execution_count": 11,
     "metadata": {},
     "output_type": "execute_result"
    }
   ],
   "source": [
    "df[df['EU_Sales'].isnull()]"
   ]
  },
  {
   "cell_type": "markdown",
   "id": "0d7a87a0",
   "metadata": {},
   "source": [
    "### JP_Sales "
   ]
  },
  {
   "cell_type": "markdown",
   "id": "872d4066",
   "metadata": {},
   "source": [
    "Se realiza la suma de NA_Sales, EU_Sales y Other_Sales, y luego se le resta a Global_Sales, con el fin de obtener JP_Sales"
   ]
  },
  {
   "cell_type": "code",
   "execution_count": 12,
   "id": "c3cd9f84",
   "metadata": {},
   "outputs": [
    {
     "data": {
      "text/html": [
       "<div>\n",
       "<style scoped>\n",
       "    .dataframe tbody tr th:only-of-type {\n",
       "        vertical-align: middle;\n",
       "    }\n",
       "\n",
       "    .dataframe tbody tr th {\n",
       "        vertical-align: top;\n",
       "    }\n",
       "\n",
       "    .dataframe thead th {\n",
       "        text-align: right;\n",
       "    }\n",
       "</style>\n",
       "<table border=\"1\" class=\"dataframe\">\n",
       "  <thead>\n",
       "    <tr style=\"text-align: right;\">\n",
       "      <th></th>\n",
       "      <th>Rank</th>\n",
       "      <th>Name</th>\n",
       "      <th>Platform</th>\n",
       "      <th>Year</th>\n",
       "      <th>Genre</th>\n",
       "      <th>Publisher</th>\n",
       "      <th>NA_Sales</th>\n",
       "      <th>EU_Sales</th>\n",
       "      <th>JP_Sales</th>\n",
       "      <th>Other_Sales</th>\n",
       "      <th>Global_Sales</th>\n",
       "    </tr>\n",
       "  </thead>\n",
       "  <tbody>\n",
       "    <tr>\n",
       "      <th>53</th>\n",
       "      <td>54</td>\n",
       "      <td>Super Mario 3D Land</td>\n",
       "      <td>3DS</td>\n",
       "      <td>2011.0</td>\n",
       "      <td>Platform</td>\n",
       "      <td>Nintendo</td>\n",
       "      <td>4.89</td>\n",
       "      <td>2.99</td>\n",
       "      <td>NaN</td>\n",
       "      <td>0.78</td>\n",
       "      <td>10.79</td>\n",
       "    </tr>\n",
       "    <tr>\n",
       "      <th>54</th>\n",
       "      <td>55</td>\n",
       "      <td>Gran Turismo 5</td>\n",
       "      <td>PS3</td>\n",
       "      <td>2010.0</td>\n",
       "      <td>Racing</td>\n",
       "      <td>Sony Computer Entertainment</td>\n",
       "      <td>2.96</td>\n",
       "      <td>4.88</td>\n",
       "      <td>NaN</td>\n",
       "      <td>2.12</td>\n",
       "      <td>10.77</td>\n",
       "    </tr>\n",
       "    <tr>\n",
       "      <th>55</th>\n",
       "      <td>56</td>\n",
       "      <td>Call of Duty: Modern Warfare 2</td>\n",
       "      <td>PS3</td>\n",
       "      <td>2009.0</td>\n",
       "      <td>Shooter</td>\n",
       "      <td>Activision</td>\n",
       "      <td>4.99</td>\n",
       "      <td>3.69</td>\n",
       "      <td>NaN</td>\n",
       "      <td>1.63</td>\n",
       "      <td>10.69</td>\n",
       "    </tr>\n",
       "    <tr>\n",
       "      <th>319</th>\n",
       "      <td>320</td>\n",
       "      <td>Mario &amp; Luigi: Bowser's Inside Story</td>\n",
       "      <td>DS</td>\n",
       "      <td>2009.0</td>\n",
       "      <td>Role-Playing</td>\n",
       "      <td>Nintendo</td>\n",
       "      <td>2.26</td>\n",
       "      <td>0.48</td>\n",
       "      <td>NaN</td>\n",
       "      <td>0.27</td>\n",
       "      <td>3.83</td>\n",
       "    </tr>\n",
       "  </tbody>\n",
       "</table>\n",
       "</div>"
      ],
      "text/plain": [
       "     Rank                                  Name Platform    Year  \\\n",
       "53     54                   Super Mario 3D Land      3DS  2011.0   \n",
       "54     55                        Gran Turismo 5      PS3  2010.0   \n",
       "55     56        Call of Duty: Modern Warfare 2      PS3  2009.0   \n",
       "319   320  Mario & Luigi: Bowser's Inside Story       DS  2009.0   \n",
       "\n",
       "            Genre                    Publisher  NA_Sales  EU_Sales  JP_Sales  \\\n",
       "53       Platform                     Nintendo      4.89      2.99       NaN   \n",
       "54         Racing  Sony Computer Entertainment      2.96      4.88       NaN   \n",
       "55        Shooter                   Activision      4.99      3.69       NaN   \n",
       "319  Role-Playing                     Nintendo      2.26      0.48       NaN   \n",
       "\n",
       "     Other_Sales  Global_Sales  \n",
       "53          0.78         10.79  \n",
       "54          2.12         10.77  \n",
       "55          1.63         10.69  \n",
       "319         0.27          3.83  "
      ]
     },
     "execution_count": 12,
     "metadata": {},
     "output_type": "execute_result"
    }
   ],
   "source": [
    "#Filas donde existen valores nulos\n",
    "\n",
    "df[df['JP_Sales'].isnull()]"
   ]
  },
  {
   "cell_type": "code",
   "execution_count": 13,
   "id": "135c4cfa",
   "metadata": {},
   "outputs": [],
   "source": [
    "df.loc[np.isnan(df[\"JP_Sales\"]), \"JP_Sales\"] = (df[\"Global_Sales\"]-df[\"Other_Sales\"]-df[\"EU_Sales\"]-df[\"NA_Sales\"])"
   ]
  },
  {
   "cell_type": "code",
   "execution_count": 14,
   "id": "393e75fc",
   "metadata": {},
   "outputs": [
    {
     "data": {
      "text/html": [
       "<div>\n",
       "<style scoped>\n",
       "    .dataframe tbody tr th:only-of-type {\n",
       "        vertical-align: middle;\n",
       "    }\n",
       "\n",
       "    .dataframe tbody tr th {\n",
       "        vertical-align: top;\n",
       "    }\n",
       "\n",
       "    .dataframe thead th {\n",
       "        text-align: right;\n",
       "    }\n",
       "</style>\n",
       "<table border=\"1\" class=\"dataframe\">\n",
       "  <thead>\n",
       "    <tr style=\"text-align: right;\">\n",
       "      <th></th>\n",
       "      <th>Rank</th>\n",
       "      <th>Name</th>\n",
       "      <th>Platform</th>\n",
       "      <th>Year</th>\n",
       "      <th>Genre</th>\n",
       "      <th>Publisher</th>\n",
       "      <th>NA_Sales</th>\n",
       "      <th>EU_Sales</th>\n",
       "      <th>JP_Sales</th>\n",
       "      <th>Other_Sales</th>\n",
       "      <th>Global_Sales</th>\n",
       "    </tr>\n",
       "  </thead>\n",
       "  <tbody>\n",
       "  </tbody>\n",
       "</table>\n",
       "</div>"
      ],
      "text/plain": [
       "Empty DataFrame\n",
       "Columns: [Rank, Name, Platform, Year, Genre, Publisher, NA_Sales, EU_Sales, JP_Sales, Other_Sales, Global_Sales]\n",
       "Index: []"
      ]
     },
     "execution_count": 14,
     "metadata": {},
     "output_type": "execute_result"
    }
   ],
   "source": [
    "df[df['JP_Sales'].isnull()]"
   ]
  },
  {
   "cell_type": "markdown",
   "id": "9dd2bf4b",
   "metadata": {},
   "source": [
    "### Other Sales"
   ]
  },
  {
   "cell_type": "markdown",
   "id": "a507ba6f",
   "metadata": {},
   "source": [
    "Se realiza la suma de NA_Sales, JP_Sales y EU_Sales, y luego se le resta a Global_Sales, con el fin de obtener Other_Sales"
   ]
  },
  {
   "cell_type": "code",
   "execution_count": 15,
   "id": "e94469ec",
   "metadata": {},
   "outputs": [
    {
     "data": {
      "text/html": [
       "<div>\n",
       "<style scoped>\n",
       "    .dataframe tbody tr th:only-of-type {\n",
       "        vertical-align: middle;\n",
       "    }\n",
       "\n",
       "    .dataframe tbody tr th {\n",
       "        vertical-align: top;\n",
       "    }\n",
       "\n",
       "    .dataframe thead th {\n",
       "        text-align: right;\n",
       "    }\n",
       "</style>\n",
       "<table border=\"1\" class=\"dataframe\">\n",
       "  <thead>\n",
       "    <tr style=\"text-align: right;\">\n",
       "      <th></th>\n",
       "      <th>Rank</th>\n",
       "      <th>Name</th>\n",
       "      <th>Platform</th>\n",
       "      <th>Year</th>\n",
       "      <th>Genre</th>\n",
       "      <th>Publisher</th>\n",
       "      <th>NA_Sales</th>\n",
       "      <th>EU_Sales</th>\n",
       "      <th>JP_Sales</th>\n",
       "      <th>Other_Sales</th>\n",
       "      <th>Global_Sales</th>\n",
       "    </tr>\n",
       "  </thead>\n",
       "  <tbody>\n",
       "    <tr>\n",
       "      <th>338</th>\n",
       "      <td>339</td>\n",
       "      <td>Friend Collection</td>\n",
       "      <td>DS</td>\n",
       "      <td>2009.0</td>\n",
       "      <td>Misc</td>\n",
       "      <td>Nintendo</td>\n",
       "      <td>0.00</td>\n",
       "      <td>0.00</td>\n",
       "      <td>3.67</td>\n",
       "      <td>NaN</td>\n",
       "      <td>3.67</td>\n",
       "    </tr>\n",
       "    <tr>\n",
       "      <th>357</th>\n",
       "      <td>358</td>\n",
       "      <td>Star Wars: Battlefront II</td>\n",
       "      <td>PS2</td>\n",
       "      <td>2005.0</td>\n",
       "      <td>Shooter</td>\n",
       "      <td>LucasArts</td>\n",
       "      <td>2.18</td>\n",
       "      <td>1.02</td>\n",
       "      <td>0.03</td>\n",
       "      <td>NaN</td>\n",
       "      <td>3.59</td>\n",
       "    </tr>\n",
       "    <tr>\n",
       "      <th>377</th>\n",
       "      <td>378</td>\n",
       "      <td>FIFA Soccer 2004</td>\n",
       "      <td>PS2</td>\n",
       "      <td>NaN</td>\n",
       "      <td>Sports</td>\n",
       "      <td>Electronic Arts</td>\n",
       "      <td>0.59</td>\n",
       "      <td>2.36</td>\n",
       "      <td>0.04</td>\n",
       "      <td>NaN</td>\n",
       "      <td>3.49</td>\n",
       "    </tr>\n",
       "    <tr>\n",
       "      <th>378</th>\n",
       "      <td>379</td>\n",
       "      <td>Star Wars Battlefront (2015)</td>\n",
       "      <td>XOne</td>\n",
       "      <td>2015.0</td>\n",
       "      <td>Shooter</td>\n",
       "      <td>Electronic Arts</td>\n",
       "      <td>1.94</td>\n",
       "      <td>1.22</td>\n",
       "      <td>0.02</td>\n",
       "      <td>NaN</td>\n",
       "      <td>3.49</td>\n",
       "    </tr>\n",
       "  </tbody>\n",
       "</table>\n",
       "</div>"
      ],
      "text/plain": [
       "     Rank                          Name Platform    Year    Genre  \\\n",
       "338   339             Friend Collection       DS  2009.0     Misc   \n",
       "357   358     Star Wars: Battlefront II      PS2  2005.0  Shooter   \n",
       "377   378              FIFA Soccer 2004      PS2     NaN   Sports   \n",
       "378   379  Star Wars Battlefront (2015)     XOne  2015.0  Shooter   \n",
       "\n",
       "           Publisher  NA_Sales  EU_Sales  JP_Sales  Other_Sales  Global_Sales  \n",
       "338         Nintendo      0.00      0.00      3.67          NaN          3.67  \n",
       "357        LucasArts      2.18      1.02      0.03          NaN          3.59  \n",
       "377  Electronic Arts      0.59      2.36      0.04          NaN          3.49  \n",
       "378  Electronic Arts      1.94      1.22      0.02          NaN          3.49  "
      ]
     },
     "execution_count": 15,
     "metadata": {},
     "output_type": "execute_result"
    }
   ],
   "source": [
    "#Filas donde existen valores nulos\n",
    "\n",
    "df[df['Other_Sales'].isnull()]"
   ]
  },
  {
   "cell_type": "code",
   "execution_count": 16,
   "id": "11453fb1",
   "metadata": {},
   "outputs": [],
   "source": [
    "df.loc[np.isnan(df[\"Other_Sales\"]), \"Other_Sales\"] = (df[\"Global_Sales\"]-df[\"JP_Sales\"]-df[\"EU_Sales\"]-df[\"NA_Sales\"])"
   ]
  },
  {
   "cell_type": "code",
   "execution_count": 17,
   "id": "77ac5fe4",
   "metadata": {},
   "outputs": [
    {
     "data": {
      "text/html": [
       "<div>\n",
       "<style scoped>\n",
       "    .dataframe tbody tr th:only-of-type {\n",
       "        vertical-align: middle;\n",
       "    }\n",
       "\n",
       "    .dataframe tbody tr th {\n",
       "        vertical-align: top;\n",
       "    }\n",
       "\n",
       "    .dataframe thead th {\n",
       "        text-align: right;\n",
       "    }\n",
       "</style>\n",
       "<table border=\"1\" class=\"dataframe\">\n",
       "  <thead>\n",
       "    <tr style=\"text-align: right;\">\n",
       "      <th></th>\n",
       "      <th>Rank</th>\n",
       "      <th>Name</th>\n",
       "      <th>Platform</th>\n",
       "      <th>Year</th>\n",
       "      <th>Genre</th>\n",
       "      <th>Publisher</th>\n",
       "      <th>NA_Sales</th>\n",
       "      <th>EU_Sales</th>\n",
       "      <th>JP_Sales</th>\n",
       "      <th>Other_Sales</th>\n",
       "      <th>Global_Sales</th>\n",
       "    </tr>\n",
       "  </thead>\n",
       "  <tbody>\n",
       "  </tbody>\n",
       "</table>\n",
       "</div>"
      ],
      "text/plain": [
       "Empty DataFrame\n",
       "Columns: [Rank, Name, Platform, Year, Genre, Publisher, NA_Sales, EU_Sales, JP_Sales, Other_Sales, Global_Sales]\n",
       "Index: []"
      ]
     },
     "execution_count": 17,
     "metadata": {},
     "output_type": "execute_result"
    }
   ],
   "source": [
    "df[df['Other_Sales'].isnull()]"
   ]
  },
  {
   "cell_type": "code",
   "execution_count": 18,
   "id": "54e51125",
   "metadata": {},
   "outputs": [
    {
     "data": {
      "text/plain": [
       "Rank              0\n",
       "Name              0\n",
       "Platform          0\n",
       "Year            271\n",
       "Genre             0\n",
       "Publisher        58\n",
       "NA_Sales          0\n",
       "EU_Sales          0\n",
       "JP_Sales          0\n",
       "Other_Sales       0\n",
       "Global_Sales      0\n",
       "dtype: int64"
      ]
     },
     "execution_count": 18,
     "metadata": {},
     "output_type": "execute_result"
    }
   ],
   "source": [
    "# Ver valores nulos\n",
    "\n",
    "df.isnull().sum()"
   ]
  },
  {
   "cell_type": "markdown",
   "id": "f7ebd6d5",
   "metadata": {},
   "source": [
    "# Coeficiente de correlación"
   ]
  },
  {
   "cell_type": "markdown",
   "id": "87f82305",
   "metadata": {},
   "source": [
    "### Na_Sales y Global_Sales"
   ]
  },
  {
   "cell_type": "code",
   "execution_count": 19,
   "id": "3f29fccc",
   "metadata": {},
   "outputs": [
    {
     "name": "stdout",
     "output_type": "stream",
     "text": [
      "La correlación de Pearson es 0.9410477391296073 con un p-value de  0.0\n"
     ]
    },
    {
     "data": {
      "image/png": "[encoded data removed]",
      "text/plain": [
       "<Figure size 432x276.48 with 1 Axes>"
      ]
     },
     "metadata": {
      "needs_background": "light"
     },
     "output_type": "display_data"
    }
   ],
   "source": [
    "fig, ax = plt.subplots(figsize=(6, 3.84))\n",
    "\n",
    "df.plot(\n",
    "    x    = 'NA_Sales',\n",
    "    y    = 'Global_Sales',\n",
    "    c    = 'firebrick',\n",
    "    kind = \"scatter\",\n",
    "    ax   = ax\n",
    ")\n",
    "ax.set_title('Distribución de NA_Sales y Global_Sales');\n",
    "\n",
    "pearson_coef, p_value = stats.pearsonr(df[\"NA_Sales\"], df[\"Global_Sales\"])\n",
    "print(\"La correlación de Pearson es\", pearson_coef, \"con un p-value de \", p_value)"
   ]
  },
  {
   "cell_type": "markdown",
   "id": "82edff06",
   "metadata": {},
   "source": [
    "### EU_Sales y Global_Sales"
   ]
  },
  {
   "cell_type": "code",
   "execution_count": 20,
   "id": "fd566c4a",
   "metadata": {},
   "outputs": [
    {
     "name": "stdout",
     "output_type": "stream",
     "text": [
      "La correlación de Pearson es 0.9028315138552994 con un p-value de  0.0\n"
     ]
    },
    {
     "data": {
      "image/png": "[encoded data removed]",
      "text/plain": [
       "<Figure size 432x276.48 with 1 Axes>"
      ]
     },
     "metadata": {
      "needs_background": "light"
     },
     "output_type": "display_data"
    }
   ],
   "source": [
    "fig, ax = plt.subplots(figsize=(6, 3.84))\n",
    "\n",
    "df.plot(\n",
    "    x    = 'EU_Sales',\n",
    "    y    = 'Global_Sales',\n",
    "    c    = 'firebrick',\n",
    "    kind = \"scatter\",\n",
    "    ax   = ax\n",
    ")\n",
    "ax.set_title('Distribución de EU_Sales y Global_Sales');\n",
    "\n",
    "pearson_coef, p_value = stats.pearsonr(df[\"EU_Sales\"], df[\"Global_Sales\"])\n",
    "print(\"La correlación de Pearson es\", pearson_coef, \"con un p-value de \", p_value)"
   ]
  },
  {
   "cell_type": "markdown",
   "id": "f2a640dc",
   "metadata": {},
   "source": [
    "### JP_Sales y Global_Sales"
   ]
  },
  {
   "cell_type": "code",
   "execution_count": 21,
   "id": "0e7411ad",
   "metadata": {},
   "outputs": [
    {
     "name": "stdout",
     "output_type": "stream",
     "text": [
      "La correlación de Pearson es 0.6118165343877388 con un p-value de  0.0\n"
     ]
    },
    {
     "data": {
      "image/png": "[encoded data removed]",
      "text/plain": [
       "<Figure size 432x276.48 with 1 Axes>"
      ]
     },
     "metadata": {
      "needs_background": "light"
     },
     "output_type": "display_data"
    }
   ],
   "source": [
    "fig, ax = plt.subplots(figsize=(6, 3.84))\n",
    "\n",
    "df.plot(\n",
    "    x    = 'JP_Sales',\n",
    "    y    = 'Global_Sales',\n",
    "    c    = 'firebrick',\n",
    "    kind = \"scatter\",\n",
    "    ax   = ax\n",
    ")\n",
    "ax.set_title('Distribución de JP_Sales y Global_Sales');\n",
    "\n",
    "pearson_coef, p_value = stats.pearsonr(df[\"JP_Sales\"], df[\"Global_Sales\"])\n",
    "print(\"La correlación de Pearson es\", pearson_coef, \"con un p-value de \", p_value)"
   ]
  },
  {
   "cell_type": "markdown",
   "id": "7bbbc42f",
   "metadata": {},
   "source": [
    "### Other_Sales y Global_Sales"
   ]
  },
  {
   "cell_type": "code",
   "execution_count": 22,
   "id": "7c9c64d5",
   "metadata": {},
   "outputs": [
    {
     "name": "stdout",
     "output_type": "stream",
     "text": [
      "La correlación de Pearson es 0.748327964548537 con un p-value de  0.0\n"
     ]
    },
    {
     "data": {
      "image/png": "[encoded data removed]",
      "text/plain": [
       "<Figure size 432x276.48 with 1 Axes>"
      ]
     },
     "metadata": {
      "needs_background": "light"
     },
     "output_type": "display_data"
    }
   ],
   "source": [
    "fig, ax = plt.subplots(figsize=(6, 3.84))\n",
    "\n",
    "df.plot(\n",
    "    x    = 'Other_Sales',\n",
    "    y    = 'Global_Sales',\n",
    "    c    = 'firebrick',\n",
    "    kind = \"scatter\",\n",
    "    ax   = ax\n",
    ")\n",
    "ax.set_title('Distribución de Other_Sales y Global_Sales');\n",
    "\n",
    "pearson_coef, p_value = stats.pearsonr(df[\"Other_Sales\"], df[\"Global_Sales\"])\n",
    "print(\"La correlación de Pearson es\", pearson_coef, \"con un p-value de \", p_value)"
   ]
  },
  {
   "cell_type": "code",
   "execution_count": 23,
   "id": "83efd967",
   "metadata": {},
   "outputs": [
    {
     "data": {
      "text/plain": [
       "Rank           -0.427407\n",
       "Year           -0.074736\n",
       "JP_Sales        0.611817\n",
       "Other_Sales     0.748328\n",
       "EU_Sales        0.902832\n",
       "NA_Sales        0.941048\n",
       "Global_Sales    1.000000\n",
       "Name: Global_Sales, dtype: float64"
      ]
     },
     "execution_count": 23,
     "metadata": {},
     "output_type": "execute_result"
    }
   ],
   "source": [
    "df.corr()[\"Global_Sales\"].sort_values()"
   ]
  },
  {
   "cell_type": "markdown",
   "id": "93d4df8c",
   "metadata": {},
   "source": [
    "# Separar el dataset en dos, train y test (80% - 20%)"
   ]
  },
  {
   "cell_type": "code",
   "execution_count": 24,
   "id": "5fa83e2c",
   "metadata": {},
   "outputs": [],
   "source": [
    "train, test = train_test_split(df, test_size = 0.20, random_state = 1)"
   ]
  },
  {
   "cell_type": "code",
   "execution_count": 25,
   "id": "ba8a19ad",
   "metadata": {},
   "outputs": [],
   "source": [
    "#Guardar a csv\n",
    "\n",
    "train.to_csv('train.csv')\n",
    "test.to_csv('test.csv')"
   ]
  },
  {
   "cell_type": "code",
   "execution_count": 26,
   "id": "50982916",
   "metadata": {},
   "outputs": [
    {
     "name": "stdout",
     "output_type": "stream",
     "text": [
      "Ejemplos usados para entrenar:  13278\n",
      "Ejemplos usados para test:  3320\n"
     ]
    }
   ],
   "source": [
    "train = pd.read_csv(\"train.csv\")\n",
    "test = pd.read_csv(\"test.csv\")\n",
    "\n",
    "print(\"Ejemplos usados para entrenar: \", len(train))\n",
    "print(\"Ejemplos usados para test: \", len(test))"
   ]
  },
  {
   "cell_type": "markdown",
   "id": "7d2356eb",
   "metadata": {},
   "source": [
    "# Regresión Lineal Simple"
   ]
  },
  {
   "cell_type": "markdown",
   "id": "376cf37e",
   "metadata": {},
   "source": [
    "Predecir ventas globales a partir de ventas en norteamérica, la variable con mejor correlación."
   ]
  },
  {
   "cell_type": "code",
   "execution_count": 27,
   "id": "61ecf4b6",
   "metadata": {},
   "outputs": [],
   "source": [
    "\n",
    "X_train = train[\"NA_Sales\"].values.reshape(-1,1)\n",
    "y_train= train[\"Global_Sales\"].values.reshape(-1, 1)\n",
    "X_test = test[\"NA_Sales\"].values.reshape(-1,1)\n",
    "y_test= test[\"Global_Sales\"].values.reshape(-1, 1)"
   ]
  },
  {
   "cell_type": "code",
   "execution_count": 28,
   "id": "e6423ca9",
   "metadata": {},
   "outputs": [],
   "source": [
    "#Creando el modelo y entrenando\n",
    "\n",
    "reg = LinearRegression().fit(X_train,y_train)\n"
   ]
  },
  {
   "cell_type": "code",
   "execution_count": 29,
   "id": "815f7853",
   "metadata": {},
   "outputs": [],
   "source": [
    "#Prediciendo valores de entrenamiento\n",
    "y_train_hat = reg.predict(X_train)\n",
    "\n",
    "#Prediciendo valores de validación\n",
    "y_test_hat = reg.predict(X_test)"
   ]
  },
  {
   "cell_type": "markdown",
   "id": "c2e285d5",
   "metadata": {},
   "source": [
    "## Calcular el error del modelo"
   ]
  },
  {
   "cell_type": "markdown",
   "id": "808c88a3",
   "metadata": {},
   "source": [
    "### R2"
   ]
  },
  {
   "cell_type": "markdown",
   "id": "fd0fe748",
   "metadata": {},
   "source": [
    "\"𝑅2: mide que tan bien una variable independiente describe la varible de respuesta.\n",
    "\n",
    "- Un valor de 1 indica un ajuste perfecto. \n",
    "- Un valor de 0 indica un que el modelo es equivalente a la media. \n",
    "- Valores aceptados de R2 en problemas reales rondan desde 0.7 a 0.9\""
   ]
  },
  {
   "cell_type": "code",
   "execution_count": 30,
   "id": "3703cfc5",
   "metadata": {},
   "outputs": [
    {
     "name": "stdout",
     "output_type": "stream",
     "text": [
      "Entrenamiento 0.8886426897080482\n",
      "Prueba 0.8707860121438579\n"
     ]
    }
   ],
   "source": [
    "# Calculamos el  error\n",
    "\n",
    "print(\"Entrenamiento\", r2_score(y_train, y_train_hat))\n",
    "print(\"Prueba\", r2_score(y_test, y_test_hat))"
   ]
  },
  {
   "cell_type": "markdown",
   "id": "261677b9",
   "metadata": {},
   "source": [
    "### Error cuadrático medio (RMSE)"
   ]
  },
  {
   "cell_type": "markdown",
   "id": "627fa8db",
   "metadata": {},
   "source": [
    "\"Indica el ajuste absoluto del modelo a los datos, cuán cerca están los puntos de datos observados de los valores predichos del modelo. El error cuadratico medio o RMSE es una medida absoluta de ajuste.\n",
    "\n",
    "Los valores más bajos de RMSE indican un mejor ajuste. RMSE es una buena medida de la precisión con que el modelo predice la respuesta, y es el criterio más importante para ajustar si el propósito principal del modelo es la predicción\""
   ]
  },
  {
   "cell_type": "code",
   "execution_count": 31,
   "id": "d2715617",
   "metadata": {},
   "outputs": [
    {
     "name": "stdout",
     "output_type": "stream",
     "text": [
      "\n",
      "El error (rmse) de test es: 0.5197379468597262\n"
     ]
    }
   ],
   "source": [
    "rmse = mean_squared_error(\n",
    "        y_true  = y_test,\n",
    "        y_pred  = y_test_hat,\n",
    "        squared = False\n",
    "       )\n",
    "print(\"\")\n",
    "print(f\"El error (rmse) de test es: {rmse}\")"
   ]
  },
  {
   "cell_type": "markdown",
   "id": "c067dd09",
   "metadata": {},
   "source": [
    "# Regresión Lineal Múltiple"
   ]
  },
  {
   "cell_type": "markdown",
   "id": "7538df78",
   "metadata": {},
   "source": [
    "Utilizaremos las variables con mejor correlación para mejorar los resultados. Estas son NA_Sales y EU_Sales."
   ]
  },
  {
   "cell_type": "code",
   "execution_count": 32,
   "id": "ac9602da",
   "metadata": {},
   "outputs": [],
   "source": [
    "X_train = train[[\"NA_Sales\",\"EU_Sales\"]]\n",
    "y_train= train[\"Global_Sales\"].values.reshape(-1, 1)\n",
    "X_test = test[[\"NA_Sales\", \"EU_Sales\"]]\n",
    "y_test= test[\"Global_Sales\"].values.reshape(-1, 1)"
   ]
  },
  {
   "cell_type": "code",
   "execution_count": 33,
   "id": "cb6c9eec",
   "metadata": {},
   "outputs": [],
   "source": [
    "# Se entrena el modelo\n",
    "reg = LinearRegression().fit(X_train,y_train)\n",
    "\n",
    "# Hacemos las  predicciones\n",
    "y_train_hat = reg.predict(X_train)\n",
    "y_test_hat = reg.predict(X_test)\n",
    "\n"
   ]
  },
  {
   "cell_type": "markdown",
   "id": "2906e474",
   "metadata": {},
   "source": [
    "### R2"
   ]
  },
  {
   "cell_type": "code",
   "execution_count": 34,
   "id": "c8fc5047",
   "metadata": {},
   "outputs": [
    {
     "name": "stdout",
     "output_type": "stream",
     "text": [
      "Entrenamiento 0.9643485719342575\n",
      "Prueba 0.9666914130057827\n"
     ]
    }
   ],
   "source": [
    "# Calculamos el error\n",
    "print(\"Entrenamiento\", r2_score(y_train, y_train_hat))\n",
    "print(\"Prueba\", r2_score(y_test, y_test_hat))"
   ]
  },
  {
   "cell_type": "markdown",
   "id": "37ed502b",
   "metadata": {},
   "source": [
    "### RMSE"
   ]
  },
  {
   "cell_type": "code",
   "execution_count": 35,
   "id": "c6de48f2",
   "metadata": {},
   "outputs": [
    {
     "name": "stdout",
     "output_type": "stream",
     "text": [
      "\n",
      "El error (rmse) de test es: 0.2638807843196478\n"
     ]
    }
   ],
   "source": [
    "rmse = mean_squared_error(\n",
    "        y_true  = y_test,\n",
    "        y_pred  = y_test_hat,\n",
    "        squared = False\n",
    "       )\n",
    "print(\"\")\n",
    "print(f\"El error (rmse) de test es: {rmse}\")"
   ]
  },
  {
   "cell_type": "code",
   "execution_count": null,
   "id": "586ca88f",
   "metadata": {},
   "outputs": [],
   "source": []
  },
  {
   "cell_type": "code",
   "execution_count": null,
   "id": "81f4fd21",
   "metadata": {},
   "outputs": [],
   "source": []
  }
 ],
 "metadata": {
  "kernelspec": {
   "display_name": "Python 3 (ipykernel)",
   "language": "python",
   "name": "python3"
  },
  "language_info": {
   "codemirror_mode": {
    "name": "ipython",
    "version": 3
   },
   "file_extension": ".py",
   "mimetype": "text/x-python",
   "name": "python",
   "nbconvert_exporter": "python",
   "pygments_lexer": "ipython3",
   "version": "3.9.6"
  }
 },
 "nbformat": 4,
 "nbformat_minor": 5
}
